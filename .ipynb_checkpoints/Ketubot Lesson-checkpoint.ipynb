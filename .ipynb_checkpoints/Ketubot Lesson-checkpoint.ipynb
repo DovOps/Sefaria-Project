{
 "cells": [
  {
   "cell_type": "markdown",
   "metadata": {},
   "source": [
    "# Between Him and Her: A Ketubot Lesson Plan\n",
    "\n",
    "## Intro to Jupyter Notebook: How to Run My Code\n",
    "To get a brief tour of this notebook, click on the grey box below with the code in it, and then click on the `Run` button on top of the screen. \n",
    "A video should appear below, press play, and enjoy the tour!"
   ]
  },
  {
   "cell_type": "code",
   "execution_count": 5,
   "metadata": {},
   "outputs": [
    {
     "data": {
      "text/html": [
       "<video width=\"989\" height=\"300\" controls>\n",
       "  <source src=\"Running.mov\" type=\"video/mp4\">\n",
       "</video>"
      ],
      "text/plain": [
       "<IPython.core.display.HTML object>"
      ]
     },
     "metadata": {},
     "output_type": "display_data"
    }
   ],
   "source": [
    "%%HTML\n",
    "<video width=\"989\" height=\"300\" controls>\n",
    "  <source src=\"Running.mov\" type=\"video/mp4\">\n",
    "</video>"
   ]
  },
  {
   "cell_type": "markdown",
   "metadata": {},
   "source": [
    "## Retrieving the Mishnah Ketubot 59b\n",
    "Run the code in the cell below to set up the Sefaria Database (don't worry, you do not have to understand the code to run it!).\n",
    "\n",
    "**Note:** It's totally normal for two red lines that say `WARNING` to appear the first time you run the code (you can just ignore them). "
   ]
  },
  {
   "cell_type": "code",
   "execution_count": 6,
   "metadata": {},
   "outputs": [
    {
     "name": "stderr",
     "output_type": "stream",
     "text": [
      "WARNING Failed to load 're2'.  Falling back to 're' for regular expression parsing. See https://github.com/Sefaria/Sefaria-Project/wiki/Regular-Expression-Engines\n",
      "WARNING Failed to load 're2'.  Falling back to 're' for regular expression parsing. See https://github.com/blockspeiser/Sefaria-Project/wiki/Regular-Expression-Engines\n"
     ]
    }
   ],
   "source": [
    "# Setting up some important environmental variables\n",
    "# that will allow the Jupyter Notebook to work with the\n",
    "# Sefaria internal code settings\n",
    "import os\n",
    "os.environ.setdefault(\"DJANGO_SETTINGS_MODULE\", \"sefaria.settings\")\n",
    "\n",
    "# Importing Django, an important code module which helps the \n",
    "# website talk to the Python code of Sefaria\n",
    "import django\n",
    "django.setup()\n",
    "\n",
    "# Importing the Sefaria Database - this is sort of \n",
    "# like an excel spreadsheet that stores ALL of Sefaria's\n",
    "# texts, from Tanakh to Mishnah to Talmud, and more! \n",
    "from sefaria.model import *\n",
    "import sefaria.system.database as database"
   ]
  },
  {
   "cell_type": "markdown",
   "metadata": {},
   "source": [
    "## Now let's actually retrieve the Mishnah...\n",
    "Again, you don't have to understand code to run it! Run the code below, and then learn the Mishnah it outputs to the screen. If you want to understand a bit more of the behind the scenes, you can read the `comments` which are notes to themselves that programmers add to code. In Python, all comments start with a `#` sign. "
   ]
  },
  {
   "cell_type": "code",
   "execution_count": 7,
   "metadata": {},
   "outputs": [
    {
     "name": "stdout",
     "output_type": "stream",
     "text": [
      "                                                   כתובות נ״ט ב:ו׳-ז׳                                                   \n",
      "     ואלו מלאכות שהאשה עושה לבעלה טוחנת ואופה ומכבסת מבשלת ומניקה את בנה מצעת לו המטה ועושה בצמר הכניסה לו שפחה אחת לא טוחנת ולא אופה ולא מכבסת שתים אין מבשלת ואין מניקה את בנה שלש אין מצעת לו המטה ואין עושה בצמר ארבע יושבת בקתדרא\n",
      "         רבי אליעזר אומר אפי' הכניסה לו מאה שפחות כופה לעשות בצמר שהבטלה מביאה לידי זימה רשב\"ג אומר אף המדיר את אשתו מלעשות מלאכה יוציא ויתן כתובה שהבטלה מביאה לידי שיעמום:\n"
     ]
    }
   ],
   "source": [
    "# Reference to the text we want from the Sefaria Database\n",
    "mishna = Ref('Ketubot 59b:6-7')\n",
    "\n",
    "# Create a list to store our resulting list of text\n",
    "myHeText = TextChunk(mishna, \"he\").text\n",
    "part1 = myHeText[0]\n",
    "\n",
    "# Cleaning out HTML tags that were mixed in\n",
    "# with the text of the Mishnah\n",
    "words = part1.split(\"</strong></big>\")\n",
    "\n",
    "# Printing the Mishna to the screen so it's \n",
    "# clear, centered and nice. \n",
    "print(mishna.he_normal().center(120, \" \"))\n",
    "print(words[1].rjust(230, \" \"))\n",
    "print(myHeText[1].rjust(172, \" \"))"
   ]
  },
  {
   "cell_type": "markdown",
   "metadata": {},
   "source": [
    "## Learning the Mishnah\n",
    "Read the Mishnah above carefully with your חברותא. Take turns reading it out loud, so that you each have the opportunity to read it and to hear it at least once. Experiment with punctuation (where does each sentence end? Where does a new sentence begin?) and also with meaning (can you translate the words so that they make sense in context?)."
   ]
  },
  {
   "cell_type": "markdown",
   "metadata": {},
   "source": [
    "### Vocabulary: Make sure you know the following words\n",
    "\n",
    "#### Mishna Words\n",
    "- מצעת לו המטה\n",
    "- עושה בצמר\n",
    "- קתדרא\n",
    "- זימה\n",
    "- שעמום\n",
    "- מדירה\n",
    "\n",
    "Please write down any other words from the Mishna that are new to you. Look up the definitions and write them down, so that you can share them in class. This will also help you remember them the next time you come across them in the Gemara! \n",
    "\n",
    "#### Computer Science Words\n",
    "- Debugging\n",
    "- Python `print()`\n",
    "- Database\n",
    "- Open Source\n",
    "\n",
    "### Guiding Questions\n",
    "\n",
    "1. Which words in this Mishnah seem to you to have an ambiguous meaning (either because you are not sure what they mean at all, or because you know it could mean more than one thing)? List, circle, or highlight these words.\n",
    "\n",
    "\n",
    "\n",
    "\n",
    "2. How many different cases or situation are described in this Mishnah? What are they?\n",
    "\n",
    "\n",
    "\n",
    "\n",
    "\n",
    "3. Given what you know about real world problem solving, what are some different ways you'd imagine engineers and computer scientists going about debugging code? Is there any relationship between this process and the way we learn Mishnah? Explain.\n",
    "\n",
    "\n",
    "\n",
    "\n",
    "\n",
    "4. For each case in the Mishnah, make note of the ruling that the Mishnah provides - meaning - what is says should be done or is meant to happen in each case.\n",
    "\n",
    "\n",
    "\n",
    "\n",
    "5. Using the information laid out above, create a chart that describes this Mishnah. The chart should have three columns: מקרה (situation or case described), דין (the halakhic ruling, and טעם (the reason behind the ruling). Note: Some boxes may be left empty, depending on how much information the Mishnah provides!\n",
    "\n",
    "\n",
    "\n",
    "\n",
    "### Automated Results\n",
    "\n",
    "This Python code below takes the various cases in the Mishnah, and automates them based on the number of servants the woman brings into the marriage. This code is still being `developed` which means it's still sort of like a draft, and may have some errors (that you can help us fix based on your Mishnah knowledge). \n",
    "\n",
    "For now, after you're done learning the Mishnah, just hit run (nothing will be outputted yet), and move down to the next cell. \n",
    "\n",
    "(And once again, if you want to try and understand the behind the scenes of this code, feel free to read the programmer's comments which begin on each line with a `#`)"
   ]
  },
  {
   "cell_type": "code",
   "execution_count": 8,
   "metadata": {},
   "outputs": [],
   "source": [
    "# Declaring the function called requiredLabors\n",
    "# -- It will take two parameters:\n",
    "#        1. The number of servants the woman\n",
    "#           is bringing into the marriage\n",
    "#        2. Optionally, whether or not the husband\n",
    "#           made a vow for his wife not to perform\n",
    "#           any labor. \n",
    "def requiredLabors(numberOfServants, vow = False):\n",
    "    \n",
    "    # This is a special kind of list called a \n",
    "    # dictionary, that stores all of the possible\n",
    "    # labors along with corresponding data which will\n",
    "    # be True or False depending on whether or not the\n",
    "    # woman is obligated in that specific labor\n",
    "    labors = {\n",
    "    \"grind flour\": True,\n",
    "    \"bake\": True,\n",
    "    \"laundry\": True,\n",
    "    \"cook\": True,\n",
    "    \"nurse kids\": True,\n",
    "    \"prepare beds\": True,\n",
    "    \"spin thread\": True\n",
    "   }\n",
    "\n",
    "    # If the husband made a \"no labor\" vow, the computer\n",
    "    # saves this statement from the Mishnah as a piece of \n",
    "    # text to output to screen later.\n",
    "    if vow == True:\n",
    "        vowStatement = \"The man in this marriage made a vow that his wife not do any labor\\n\" + \\\n",
    "        \"Rabbi Shimon Ben Gamliel says: יוציא וייתן כתובה\\nHe must divorce her and pay her the ketubah\"\n",
    "    \n",
    "    # If no vow was made, the code checks how\n",
    "    # many servants she's bringing into the marriage\n",
    "    # depending on the number of servants it'll reset\n",
    "    # the Trues to Falses in the dictionary list of \n",
    "    # labors above.\n",
    "    # If the woman has enough servants to totally be\n",
    "    # exempt from all labor, the computer\n",
    "    # saves a statement from the Mishnah as a piece\n",
    "    # of text to output to screen later. \n",
    "    else:\n",
    "        if numberOfServants >= 1:\n",
    "            labors[\"grind flour\"] = False\n",
    "            labors[\"bake\"] = False\n",
    "            labors[\"laundry\"] = False\n",
    "        if numberOfServants >= 2:\n",
    "            labors[\"cook\"] = False\n",
    "            labors[\"nurse kids\"] = False\n",
    "        if numberOfServants >= 3:\n",
    "            labors[\"prepare beds\"] = False\n",
    "            labors[\"spin thread\"] = False\n",
    "            threeServants = \"Has no required labors\"\n",
    "        if numberOfServants >= 4:\n",
    "            fourServants = \"יושבת בקתדרא - She may sit in an easy chair\\n\" +\\\n",
    "            \"Rabbi Akiva says: כופה לעשות בצמר - She must spin thread\"\n",
    "        \n",
    "    # Outputting to screen the title\n",
    "    print(\"Obligations According to the Mishna:\"),\n",
    "    \n",
    "    # Outputting to screen the number of servants\n",
    "    print(\"The woman came in with \" + str(numberOfServants) + \" servant(s).\")\n",
    "    \n",
    "    # Outputting the labors, or relevant pieces of text\n",
    "    # depending on whether or not there was a vow, and how\n",
    "    # many servants the woman has. \n",
    "    if vow:\n",
    "        print(vowStatement)\n",
    "    \n",
    "    elif numberOfServants >= 4:\n",
    "        print(fourServants)\n",
    "        \n",
    "    elif numberOfServants == 3:\n",
    "        print(threeServants)\n",
    "        \n",
    "    else:\n",
    "        print(\"She is obligated to:\")\n",
    "        i = 1\n",
    "        for each in labors:\n",
    "            if labors[each] == True:\n",
    "                print(str(i) + \") \" + each)\n",
    "                i += 1        "
   ]
  },
  {
   "cell_type": "markdown",
   "metadata": {},
   "source": [
    "## Evaluating Our Understanding\n",
    "\n",
    "Lots of code, right? Let's use the space below to use the code above to test our results. After you finish learning the Mishnah and charting out the cases, test your understanding against the code in the cell below. \n",
    "\n",
    "**Reminder:** This code is just a draft, and may have some errors or \"bugs\". If there are differences between what the code produces and your expected results, go back to the Mishnah to find proof text arguing against the code's results. Write down the errors you find, and highlight the lines in the Mishnah that could help someone correct the errors.  \n",
    "\n",
    "### How to use this code:\n",
    "1. Type the following into the cell below: `requiredLabors()`. This is what's called a function, and it will automatically behind the scenes execute all of the code we wrote out in the box above. \n",
    "2. Then, add the number of servants the woman brought into the marriage between the parenthesis. So, for example, if you want to test a woman's required labors when she brings two servants into the marriage, your code will look like this `requiredLabors(2)`. \n",
    "3. Run the code in the cell...\n",
    "4. Does it match your understanding of the Mishnah? If not, help us debug our code by finding the words in the Mishnah that contradict our code. \n",
    "5. Try, and repeat, with other numbers inside the parenthesis"
   ]
  },
  {
   "cell_type": "code",
   "execution_count": 11,
   "metadata": {},
   "outputs": [
    {
     "name": "stdout",
     "output_type": "stream",
     "text": [
      "Obligations According to the Mishna: The woman came in with 0 servant(s).\n",
      "She is obligated to:\n",
      "1) nurse kids\n",
      "2) laundry\n",
      "3) prepare beds\n",
      "4) spin thread\n",
      "5) cook\n",
      "6) grind flour\n",
      "7) bake\n"
     ]
    }
   ],
   "source": [
    "# Type your code on the line below!\n",
    "requiredLabors(0)"
   ]
  },
  {
   "cell_type": "markdown",
   "metadata": {},
   "source": [
    "### The Vow Case\n",
    "\n",
    "If her husband made a vow, you can type it like `requiredLabors(1, vow=True)`. The `1` can be replaced for any number you'd like to test, but make sure you include the `vow=True` parameter. Then, run the code and see what happens!"
   ]
  },
  {
   "cell_type": "code",
   "execution_count": 7,
   "metadata": {},
   "outputs": [
    {
     "name": "stdout",
     "output_type": "stream",
     "text": [
      "Obligations According to the Mishna: The woman came in with 5 servant(s).\n",
      "The man in this marriage made a vow that his wife not do any labor\n",
      "Rabbi Shimon Ben Gamliel says: יוציא וייתן כתובה\n",
      "He must divorce her and pay her the ketubah\n"
     ]
    }
   ],
   "source": [
    "requiredLabors(5, vow=True)"
   ]
  },
  {
   "cell_type": "markdown",
   "metadata": {},
   "source": [
    "### Error Reporting\n",
    "One day, you might be a full on computer scientist who can go into the code and fix the bug yourself. For now, you can still help us contribute to debugging the code by emailing us with the problem at _____@mail.com. Our software engineers will fix the problem based on your error reporting. Make sure to cc your teacher on the email..."
   ]
  },
  {
   "cell_type": "markdown",
   "metadata": {},
   "source": [
    "## Analyzing our Results\n",
    "1. What reasons do you think underlie these rulings? Does the Mishnah give you any clues about the “why” of each ruling?\n",
    "\n",
    "\n",
    "\n",
    "2. Did checking your answers against the code, and finding errors help you in understanding the Mishnah? Why or why not? Can you brainstorm other ways computer science could be used to help us learn Mishnah?\n",
    "\n",
    "\n",
    "\n",
    "3. If you were the Gemara, what questions would you ask about this Mishnah?\n"
   ]
  }
 ],
 "metadata": {
  "kernelspec": {
   "display_name": "educationProj",
   "language": "python",
   "name": "educationproj"
  },
  "language_info": {
   "codemirror_mode": {
    "name": "ipython",
    "version": 2
   },
   "file_extension": ".py",
   "mimetype": "text/x-python",
   "name": "python",
   "nbconvert_exporter": "python",
   "pygments_lexer": "ipython2",
   "version": "2.7.10"
  }
 },
 "nbformat": 4,
 "nbformat_minor": 2
}
