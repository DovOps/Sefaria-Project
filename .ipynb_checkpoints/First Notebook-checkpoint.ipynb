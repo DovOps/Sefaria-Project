{
 "cells": [
  {
   "cell_type": "markdown",
   "metadata": {},
   "source": [
    "# A Sefaria Notebook!\n",
    "\n",
    "Welcome to the Sefaria Notebook, where you can learn a little bit about **Sefaria** in an interactive *way*.\n",
    "\n",
    "## What is Sefaria?\n",
    "Torah!\n",
    "\n",
    "### Let's explore! "
   ]
  },
  {
   "cell_type": "code",
   "execution_count": 3,
   "metadata": {
    "scrolled": true
   },
   "outputs": [
    {
     "name": "stdout",
     "output_type": "stream",
     "text": [
      "Welcome to Sefaria\n"
     ]
    }
   ],
   "source": [
    "print(\"Welcome to Sefaria\")"
   ]
  },
  {
   "cell_type": "markdown",
   "metadata": {},
   "source": [
    "## This is some *silly* sample code just to show you how Torah and technology can actually be used in harmony!\n",
    "Computers are best at storing and sorting information, and at its essence, a Torah library or canon is a giant bunch of (granted holy) information! Look at the mock-up below just to get a sense for how the two could collide (even though **Sefaria** takes this to a whole new mega-level). \n",
    "\n",
    "#### Need some help getting started?\n",
    "- Play with the books appended to the texts list, can you add another book following the template?\n",
    "- Use the teachTorah() method to teach Torah to the user. Can you get the program to be interactive?\n",
    "- Add a genre parameter to the Book object, and teach Torah to the user based on their interests... "
   ]
  },
  {
   "cell_type": "code",
   "execution_count": 19,
   "metadata": {},
   "outputs": [
    {
     "name": "stdout",
     "output_type": "stream",
     "text": [
      "BOOKS IN OUR LIBRARY:\n",
      "\n",
      "WARNING: This is a fairly contemporary text\n",
      "Peninei Halacha was written by Rav Eliezer Melamed and published in 5779\n",
      "\n",
      "WARNING: This is a fairly contemporary text\n",
      "Netivot Shalom was written by The Slonimer Rebbe and published in 5759\n",
      "\n",
      "Masechet Brachot was written by Ravina and Rav Ashi compiled and published in 4260\n",
      "\n",
      "WARNING: This is an ooold text\n",
      "Torah was written by G-d and published in 2448\n"
     ]
    }
   ],
   "source": [
    "# Again, just some sample code as to how this whole project is (at its core) conceptualized. In practicality,\n",
    "# due to the tremendous efforts of the entire team, they use technology to take their ability to process\n",
    "# all of this information to a whole new level, with connections between texts, easy user accessibility\n",
    "# and source sheets (to name a few). \n",
    "\n",
    "class Book():\n",
    "    \n",
    "    def __init__(self, title, author, contents, year):\n",
    "        self.__bookTitle = title\n",
    "        self.__bookAuth = author\n",
    "        self.__bookContents = contents\n",
    "        self.__publicationDate = year\n",
    "        \n",
    "    def __str__(self):\n",
    "        return self.__bookTitle + \" was written by \" + self.__bookAuth + \" and published in \" + str(self.__publicationDate)\n",
    "    \n",
    "    def teachTorah(self):\n",
    "        return contents\n",
    "    \n",
    "    def getYear (self):\n",
    "        return self.__publicationDate\n",
    "    \n",
    "    def __lt__(self, other):\n",
    "        return self.__publicationDate < other.__publicationDate\n",
    "    \n",
    "\n",
    "\n",
    "def __main():\n",
    "    \n",
    "    torah = Book(\"Torah\", \"G-d\", \"Bereshit Bara Elokim... ...L'Einai Kol Yisrael\", 2448)\n",
    "    masechetBrachot = Book(\"Masechet Brachot\", \"Ravina and Rav Ashi compiled\", \"Me'ematai Korin at Shema b'Shacharit\", 4260)\n",
    "    netivotShalom = Book(\"Netivot Shalom\", \"The Slonimer Rebbe\", \"Beautiful chassidic Torah\", 5759)\n",
    "    penineiHalacha = Book(\"Peninei Halacha\", \"Rav Eliezer Melamed\", \"Don't mix meat and milk!\", 5779)\n",
    "    \n",
    "    texts = []\n",
    "    \n",
    "    texts.append(torah)\n",
    "    texts.append(masechetBrachot)\n",
    "    texts.append(netivotShalom)\n",
    "    texts.append(penineiHalacha)\n",
    "    \n",
    "    # The code below sorts the books in texts according to the publication date in descending order\n",
    "    # Then prints each book along with a warning if it's old or new... \n",
    "    \n",
    "    texts.sort(reverse=True)\n",
    "    print(\"BOOKS IN OUR LIBRARY:\")\n",
    "    for book in texts:\n",
    "        if book.getYear() < 3000:\n",
    "            print(\"\\nWARNING: This is an ooold text\")\n",
    "            print(book)\n",
    "        elif book.getYear() > 5700:\n",
    "            print(\"\\nWARNING: This is a fairly contemporary text\")\n",
    "            print(book)\n",
    "        else:\n",
    "            print()\n",
    "            print(book)\n",
    "            \n",
    "if __name__ == '__main__':\n",
    "    __main()\n",
    "        \n",
    "    "
   ]
  },
  {
   "cell_type": "code",
   "execution_count": null,
   "metadata": {},
   "outputs": [],
   "source": []
  }
 ],
 "metadata": {
  "kernelspec": {
   "display_name": "Python 3",
   "language": "python",
   "name": "python3"
  },
  "language_info": {
   "codemirror_mode": {
    "name": "ipython",
    "version": 3
   },
   "file_extension": ".py",
   "mimetype": "text/x-python",
   "name": "python",
   "nbconvert_exporter": "python",
   "pygments_lexer": "ipython3",
   "version": "3.6.1"
  }
 },
 "nbformat": 4,
 "nbformat_minor": 2
}
