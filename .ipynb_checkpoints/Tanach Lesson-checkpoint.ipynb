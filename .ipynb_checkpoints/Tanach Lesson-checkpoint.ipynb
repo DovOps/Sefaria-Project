{
 "cells": [
  {
   "cell_type": "markdown",
   "metadata": {},
   "source": [
    "# Becoming a Biblical Cyber-Spy:\n",
    "## A Lesson in Sefer Bamidbar, Python Print Statements and the Sefaria Database\n",
    "\n",
    "In this lesson, the student will:\n",
    "- Learn how to access the `Sefaria Database` using Python and use these skills to retrieve the focus texts.\n",
    "- Analyze two varying opinions to the biblical stories of the spies\n",
    "- Build a choose-your-own-adventure simulation based on these two commentaries, using the Python `input()` function"
   ]
  },
  {
   "cell_type": "markdown",
   "metadata": {},
   "source": [
    "## Using Sefaria like a Software Engineer\n",
    "You may have used `Sefaria` before (and if not, check it out at https://sefaria.org), but let's go under the hood and use it the way the software engineer inside of you can - using code to access the texts stored in the `database` directly. "
   ]
  },
  {
   "cell_type": "code",
   "execution_count": null,
   "metadata": {},
   "outputs": [],
   "source": [
    "from sefaria.model import *\n",
    "import sefaria.system.database as database\n",
    "gen = Ref('Genesis 1:1')"
   ]
  },
  {
   "cell_type": "markdown",
   "metadata": {},
   "source": [
    "## Let's Learn Torah! \n",
    "Now that you can retrieve information from the **Sefaria** database, why don't you use your newfound skills to pull up Bamidbar 13."
   ]
  },
  {
   "cell_type": "code",
   "execution_count": null,
   "metadata": {},
   "outputs": [],
   "source": [
    "# Change the None to a call to the database (like we did before) to retrieve the story of the spies\n",
    "story_of_spies = None\n",
    "\n",
    "print(story_of_spies)\n"
   ]
  },
  {
   "cell_type": "markdown",
   "metadata": {},
   "source": [
    "## What is a `print()` statement?\n",
    "- Add intro here. "
   ]
  },
  {
   "cell_type": "code",
   "execution_count": 25,
   "metadata": {},
   "outputs": [],
   "source": [
    "# Add print statement demo here"
   ]
  },
  {
   "cell_type": "markdown",
   "metadata": {},
   "source": [
    "## Build a Simulation\n",
    "Now it's time to take the text we've retrieved and studied, and turn it into a simulation game. Below you'll see code for a simulation of the story as it is told in chapter 13. Using the actual text, as well as your new knowledge of `print()` write the two conflicting responses of the two groups of spies. The place to do it in the code is delineated with comments above it.   \n",
    "\n",
    "*To learn more about the `print()` function and its capabalities: https://www.programiz.com/python-programming/methods/built-in/print*"
   ]
  },
  {
   "cell_type": "code",
   "execution_count": null,
   "metadata": {},
   "outputs": [],
   "source": [
    "import time\n",
    "\n",
    "class sim():\n",
    "    \n",
    "    # init\n",
    "    \n",
    "    # str\n",
    "    \n",
    "    def intro(self):\n",
    "        print(\"~~~ The Sending of the Spies ~~~\")\n",
    "        print(\"Welcome to a simulation of the biblical account of the sending of the spies.\")\n",
    "        print(\"Througout this simulation, we'll be prompting the user for input, \")\n",
    "        print(\"so be prepared to let your opinion matter.\")\n",
    "        val = input(\"Are you ready to go on an adventure together? [y or n] : \")\n",
    "       \n",
    "        if val == \"y\" or val == \"Y\":\n",
    "            self.run()\n",
    "        else:\n",
    "            self.endEarly()\n",
    "        \n",
    "    \n",
    "    def run(self):\n",
    "            \n",
    "        print(\"\\n\\nTHE YEAR IS 2448 ON THE JEWISH CALENDAR\")\n",
    "        time.sleep(1)\n",
    "        print(\"THE JEWISH PEOPLE HAVE LEFT EGYPT, AND ARE ON THEIR WAY TO ISRAEL\")\n",
    "        time.sleep(1)\n",
    "        print(\"-----------------------------------------------------------------\")\n",
    "        time.sleep(5)\n",
    "        print(\"You have been traveling through the dessert, picking up the camp whenever G-d says so.\")\n",
    "        time.sleep(1)\n",
    "        print(\"You're eating this heavenly food called Manna, with G-d performing many miracles.\")\n",
    "        time.sleep(1)\n",
    "        print(\"Sure, it's scary to have left Egypt, all you and your family has ever known, but overall life's good.\")\n",
    "        time.sleep(1)\n",
    "        print(\"-----------------------------------------------------------------\")\n",
    "        time.sleep(5)\n",
    "        print(\"\")\n",
    "        time.sleep(1)\n",
    "        print(\"You're currently waiting eagerly, as the spies sent to scout out the land of Israel\")\n",
    "        print(\"are returning! G-d promised it would be a good land, so you're excited to hear what the \")\n",
    "        print(\"spies saw.\")\n",
    "        time.sleep(1)\n",
    "        print(\"-----------------------------------------------------------------\")\n",
    "        time.sleep(5)\n",
    "        \n",
    "        \n",
    "        print(\"10 of the 12 spies start, and say the following:\")\n",
    "        time.sleep(1)\n",
    "        self.tenSpiesReport()\n",
    "        \n",
    "        \n",
    "        time.sleep(5)\n",
    "        print(\"-----------------------------------------------------------------\")\n",
    "        time.sleep(1)\n",
    "        \n",
    "        \n",
    "        print(\"Then, the other two - Calev and Yehoshua say their perspective:\")\n",
    "        self.twoSpiesReport()\n",
    "        \n",
    "        val = input(\"Who are you inclined to believe? [10 or 2]: \")\n",
    "        \n",
    "        if val == \"10\":\n",
    "            print(\"You chose to listen to the majority of the spies, though a negative report.\")\n",
    "        elif val == \"2\":\n",
    "            print(\"You chose to go against the majority, and listen to the positive report.\")\n",
    "            \n",
    "        print(\"------------------------------------------------------------------\")\n",
    "        print(\"What did the Jewish people actual decide to do in the time of the dessert?\")\n",
    "        print(\"Follow the instructions to pull up chapter 14, and compare your answer to theirs. \")\n",
    "        \n",
    "    def endEarly(self):\n",
    "        print(\"Simulation over.\")\n",
    "        \n",
    "    \n",
    "    # TODO: Fill in based on the text\n",
    "    def tenSpiesReport(self):\n",
    "        print(\"\")\n",
    "        \n",
    "    # TODO: Fill in based on the text\n",
    "    def twoSpiesReport(self):\n",
    "        print(\"\")\n",
    "\n",
    "\n",
    "# Initiating a new game object\n",
    "torahSim = sim()\n",
    "\n",
    "# Running the game introduction\n",
    "torahSim.intro()\n",
    "  "
   ]
  },
  {
   "cell_type": "markdown",
   "metadata": {},
   "source": [
    "Who did you decide to listen to? Why?\n",
    "- Go back to the original text of Bamidbar 13 and pick out three supporting quotes that explain which side you chose to follow and why. \n",
    "- Write a short defense of why your choice is a good choice, listing what you would expect the other side to challenge you on, and refuting them in place. "
   ]
  },
  {
   "cell_type": "markdown",
   "metadata": {},
   "source": [
    "## Compare your reaction\n",
    "Use your knowledge of the Sefaria Database to pull up Bamidbar Chapter 14 to see how the Jewish people reacted to the two conflicting reports. Compare your reaction to that of the Jewish people. \n",
    "- Are there similarities? If so, where?\n",
    "- Are there differences? If so, where?"
   ]
  },
  {
   "cell_type": "code",
   "execution_count": null,
   "metadata": {},
   "outputs": [],
   "source": [
    "gen = Ref('Genesis 1:1')\n",
    "print(gen)"
   ]
  },
  {
   "cell_type": "code",
   "execution_count": null,
   "metadata": {},
   "outputs": [],
   "source": []
  }
 ],
 "metadata": {
  "kernelspec": {
   "display_name": "Python 3",
   "language": "python",
   "name": "python3"
  },
  "language_info": {
   "codemirror_mode": {
    "name": "ipython",
    "version": 3
   },
   "file_extension": ".py",
   "mimetype": "text/x-python",
   "name": "python",
   "nbconvert_exporter": "python",
   "pygments_lexer": "ipython3",
   "version": "3.6.1"
  }
 },
 "nbformat": 4,
 "nbformat_minor": 2
}
