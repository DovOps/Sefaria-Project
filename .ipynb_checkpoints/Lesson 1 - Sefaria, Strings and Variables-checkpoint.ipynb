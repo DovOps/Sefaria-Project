{
 "cells": [
  {
   "cell_type": "markdown",
   "metadata": {},
   "source": [
    "# Sefaria, Strings and Variables\n",
    "In this lesson, the student will:\n",
    "- Learn how computers store information on a most primitive level\n",
    "- Learn how to create text references for the Sefaria Database using Python \n",
    "- Use these skills to store references they create in variables\n",
    "\n",
    "With thanks to Invent with Python 4th Edition by Al Swiegart"
   ]
  },
  {
   "cell_type": "markdown",
   "metadata": {},
   "source": [
    "## Expressions\n",
    "The math problem 2 + 2 is an example of an expression. Expressions are made up of values (the numbers) connected by operators (the math signs) that produce a new value the code can use. Computers can solve millions of expressions in seconds. (AS)\n",
    "\n",
    "### Operators in Computer Science\n",
    "Operators in Computer Science are a tiny bit different from operators in a regular math class. We use `+` and `-`, but for multiplication we use a `*` (instead of an x) and for division we use `\\`. Just like with order of operations, the computer will evaluate anything inside of parenthesis first, followed by multiplication and division, before addition and subtraction. \n",
    "\n",
    "Some examples:\n",
    "> `2 + 2` \n",
    "\n",
    "> `4 * 3 -2` \n",
    "\n",
    "> `16/4` \n",
    "\n",
    "Note: Spacing doesn't matter, in Python `4+4` is the same as `4      +      4`. \n",
    "\n",
    "Let's practice! Write an expression in the space below, and then hit the run button."
   ]
  },
  {
   "cell_type": "code",
   "execution_count": 6,
   "metadata": {},
   "outputs": [],
   "source": [
    "# Add your expressions here"
   ]
  },
  {
   "cell_type": "markdown",
   "metadata": {},
   "source": [
    "Now, try writing an expression with just one number and one operator (like `5 +` ). What happens?"
   ]
  },
  {
   "cell_type": "code",
   "execution_count": 7,
   "metadata": {},
   "outputs": [
    {
     "ename": "SyntaxError",
     "evalue": "invalid syntax (<ipython-input-7-4f4744a157be>, line 1)",
     "output_type": "error",
     "traceback": [
      "\u001b[0;36m  File \u001b[0;32m\"<ipython-input-7-4f4744a157be>\"\u001b[0;36m, line \u001b[0;32m1\u001b[0m\n\u001b[0;31m    5 +\u001b[0m\n\u001b[0m       ^\u001b[0m\n\u001b[0;31mSyntaxError\u001b[0m\u001b[0;31m:\u001b[0m invalid syntax\n"
     ]
    }
   ],
   "source": [
    "5 +"
   ]
  },
  {
   "cell_type": "markdown",
   "metadata": {},
   "source": [
    "Congratulations! You're officially a programmer now that you've encountered your first error. Much of professional programmer's days are spent finding errors (also known as \"bugs\") in code and chasing them down to go fix them. A `SyntaxError` just means there was a mistake with the syntax, or the words you typed. Don’t worry though, errors won’t damage your computer. Just retype with a second number, and try again!"
   ]
  },
  {
   "cell_type": "markdown",
   "metadata": {},
   "source": [
    "## Variables: Storing Pieces of Information\n",
    "What is a variable in computer science? Think of a variable as almost a kind of virtual box to store a piece of data in. The crucial thing about variables is that they have names which help us remember what's stored inside. A variable can hold different kinds of data - let's explore:\n",
    "\n",
    "Data type |Description \n",
    "----------|-------------\n",
    "int       | An \"int\" is short for integer, which is any whole number (like 12 or -65, but *not* 12.2 or 1/4)\n",
    "float     | A \"float\" is a floating-point number, aka any number with a \"point\" or decimal \n",
    "boolean   | A boolean is a data type that's always ever True or False\n",
    "string    | A string is a word or series of letters or numbers in quotes, like \"hello\" or \"b4 I go\"\n",
    "  \n",
    "There are more data types, but we won't be using them as heavily for our purposes. As always, if you want to learn more, check out: https://realpython.com/python-data-types/\n",
    "\n",
    "## Declaring a Variable\n",
    "Alright, enough of theory - let's declare some variables ourselves! Retype the following code into the cell below and then hit run. \n",
    "```Python\n",
    "mitzvot = 613\n",
    "print(mitzvot)\n",
    "```\n",
    "(We encourage you actually retype the code as opposed to copying and pasting it, it will help you remember the way we do things in Python)"
   ]
  },
  {
   "cell_type": "code",
   "execution_count": 9,
   "metadata": {},
   "outputs": [
    {
     "name": "stdout",
     "output_type": "stream",
     "text": [
      "613\n"
     ]
    }
   ],
   "source": [
    "mitzvot = 613\n",
    "print(mitzvot)"
   ]
  },
  {
   "cell_type": "markdown",
   "metadata": {},
   "source": [
    "What happened? Well, a variable is essentially just a virtual box to store stuff in, so we created a box named `mitzvot` and put the number 613 inside with the `=` sign. Now, since mitzvot is essentially just a container for the number 613, we can do all the math we could do with 613 and apply it to mitzvot. Try running code below using mitzvot as a term in an expression, and see what happens. "
   ]
  },
  {
   "cell_type": "code",
   "execution_count": 10,
   "metadata": {},
   "outputs": [
    {
     "data": {
      "text/plain": [
       "623"
      ]
     },
     "execution_count": 10,
     "metadata": {},
     "output_type": "execute_result"
    }
   ],
   "source": [
    "mitzvot + 10 "
   ]
  },
  {
   "cell_type": "markdown",
   "metadata": {},
   "source": [
    "## Print Statements\n",
    "Did you catch that extra line of code above, `print(mitzvot)`? Well, `print()` is a handy-dandy method (aka instruction for the computer) that takes the insides of a variable and shows it to us on the screen. You can also just type a string directly and it'll put it on the screen like, `print(\"Hey new computer scientist, you're doing great!\")`. \n",
    "\n",
    "\n",
    "Let's declare a few variables of different types: \n",
    "- `name = \"your name here\"`\n",
    "- `age = 10`\n",
    "- `favoriteDecimal = 2.3`\n",
    "- `isJewish = True`\n",
    "\n",
    "In the cell below, can you use the code above to declare a few more variables? To test your results, put them inside the `print()` method the same way we did above (like `print(age)` )"
   ]
  },
  {
   "cell_type": "code",
   "execution_count": 11,
   "metadata": {},
   "outputs": [
    {
     "name": "stdout",
     "output_type": "stream",
     "text": [
      "Sarah Imeinu\n",
      "127\n",
      "1.5\n",
      "True\n"
     ]
    }
   ],
   "source": [
    "name = \"Sarah Imeinu\"\n",
    "age = 127\n",
    "numberOfKids = 1.5\n",
    "isMonotheistic = True\n",
    "\n",
    "print(name)\n",
    "print(age)\n",
    "print(numberOfKids)\n",
    "print(isMonotheistic)"
   ]
  },
  {
   "cell_type": "markdown",
   "metadata": {},
   "source": [
    "### String Concatenation\n",
    "Just like we can add two numbers together in math, in computer science, we can add two strings together (fancy word alert: *concatenate* two strings together). For example, `greeting = \"hello\" + \"world\"` would leave us with `greeting` containing the string `\"helloworld\"` (yup, we forgot to explicitly put a space in our strings). Run the example below, and try it out with a few others. "
   ]
  },
  {
   "cell_type": "code",
   "execution_count": 12,
   "metadata": {},
   "outputs": [
    {
     "name": "stdout",
     "output_type": "stream",
     "text": [
      "Tonight for dinner we're having Salad and Pizza followed by Strawberries with a drink of Chocolate Milk\n"
     ]
    }
   ],
   "source": [
    "dinner = \"Salad and Pizza\"\n",
    "dessert = \"Strawberries\"\n",
    "drink = \"Chocolate Milk\"\n",
    "\n",
    "print(\"Tonight for dinner we're having \" + dinner + \" followed by \" + dessert + \" with a drink of \" + drink)\n",
    "\n",
    "# Add your own examples below"
   ]
  },
  {
   "cell_type": "markdown",
   "metadata": {},
   "source": [
    "### A few more notes about variables\n",
    "- **camelCase:** camelCase is a computer science convention for how we name variables with multiple words. In the code above, we use camel case with the variable `isLearning` so it's more readable than something like `islearning` (and you can't have spaces in variable names). Some people prefer to put underscores between the words like `is_learning`. It's really a matter of personal style. Either way, making variable names meaningful is a crucial part of a variable's job - so make those names meaningful!\n",
    "- **Case Sensitive:** Python variables are case sensitive, so `helloThere` is not the same as `HelloThere`\n",
    "- **Reserved Keywords:** Python (and all languages) has a list of keywords that the language uses to execute certain commands, therefore things get sticky if we try using them as variable names. Here's a complete list of those key words, make sure you take a look to avoid bugs in your code. https://www.programiz.com/python-programming/keywords-identifier\n",
    "- **Data Type Matters:** Sometimes data type matters. To check the data type of your variable you can run it through the `type()` method (try that with some of the variables above - like `type(myFirstVariable)`. \n",
    "- **Printing Mixed Types:** The most common type significant situation we'll be encountering is when we try to `print()` an int/float with a string. Since the computer is expecting one type, we get to convert the int from something like `10` to string form like `\"10\"`. This is super simple, using the handy `str()` string-conversion method and can be seen in the code below. "
   ]
  },
  {
   "cell_type": "code",
   "execution_count": 1,
   "metadata": {},
   "outputs": [
    {
     "name": "stdout",
     "output_type": "stream",
     "text": [
      "20 days until Purim! Chag Sameach!\n"
     ]
    }
   ],
   "source": [
    "days_until = 20\n",
    "message = \" days until Purim! Chag Sameach!\"\n",
    "\n",
    "# Using the str() method\n",
    "print(str(days_until) + message)\n",
    "\n",
    "# Try printing the above without the str() conversion for the number, \n",
    "# what happens?\n",
    "\n",
    "\n",
    "# Write your own int and string message below,\n",
    "# and use str() to convert the int to a string"
   ]
  },
  {
   "cell_type": "markdown",
   "metadata": {},
   "source": [
    "## Using Sefaria like a Software Engineer\n",
    "You may have used Sefaria before (and if not, check it out at https://sefaria.org), but let's go under the hood and use it the way the software engineer inside of you can - using code to access the texts stored in the database directly.\n",
    "\n",
    "First, let's set up our environment, import the database and do some other technical stuff you honestly don't need to understand fully right now. We'll learn a little bit more about what's going on here in future lessons.\n",
    "\n",
    "### What's a Database?\n",
    "Good question. A database is an organized way through which the computer can store lots of data in memory in a way that's sort of reminiscent of a spreadsheet. Sefaria has one in which it stores all of its texts. We need to import the Sefaria database into our code so we can access all of the texts and use them for our lesson, and eventually our code! \n",
    "\n",
    "*To learn more about databases, check out: https://www.youtube.com/watch?v=wR0jg0eQsZA)*"
   ]
  },
  {
   "cell_type": "code",
   "execution_count": 6,
   "metadata": {},
   "outputs": [
    {
     "name": "stderr",
     "output_type": "stream",
     "text": [
      "WARNING Failed to load 're2'.  Falling back to 're' for regular expression parsing. See https://github.com/Sefaria/Sefaria-Project/wiki/Regular-Expression-Engines\n",
      "WARNING Failed to load 're2'.  Falling back to 're' for regular expression parsing. See https://github.com/blockspeiser/Sefaria-Project/wiki/Regular-Expression-Engines\n"
     ]
    }
   ],
   "source": [
    "# Setting up some important environmental variables\n",
    "# that will allow the Jupyter Notebook to work with the\n",
    "# Sefaria internal code settings\n",
    "import os\n",
    "os.environ.setdefault(\"DJANGO_SETTINGS_MODULE\", \"sefaria.settings\")\n",
    "\n",
    "# Importing Django, an important code module which helps the \n",
    "# website talk to the Python code of Sefaria\n",
    "import django\n",
    "django.setup()\n",
    "\n",
    "# Importing the Sefaria Database\n",
    "from sefaria.model import *\n",
    "import sefaria.system.database as database"
   ]
  },
  {
   "cell_type": "markdown",
   "metadata": {},
   "source": [
    "### Applying Variables to Sefaria\n",
    "In order to get a text from the Sefaria database, we have to do something called \"creating a text reference.\" Just like we have ways of referring to books at a library (using the specific barcode or the title) we need to refer to the books in the Sefaria database. There are specific ways of referring to books, and then you plug that formula between the quotes of code that looks like this: `myBook = Ref(' ')`. Let's take a look:\n",
    "\n",
    "```Python\n",
    "# This code creates a references to the first pasuk of Parshat Lech-Lecha\n",
    "\n",
    "lechLecha = Ref(\"Genesis 12:1\")\n",
    "```\n",
    "\n",
    "To test whether or not that worked, I can run a method (think of a method like a command of sorts) and have the reference print the Hebrew way to refer to that section of text. \n",
    "\n",
    "```Python\n",
    "# This code uses a method to print the Hebrew name of a method\n",
    "\n",
    "hebrewTitle = lechLecha.he_normal()\n",
    "print(hebrewTitle)\n",
    "```\n",
    "\n",
    "#### More Specific Examples...\n",
    "\n",
    "To refer to a whole book, you can type in the title of the book, like `myBook = Ref('Esther')`\n",
    "\n",
    "Just like real life books are divided into **chapters** and **verses**, Sefaria divides up books in **segments** and **sections**. So if you want the first chapter of Esther, your text reference is going to look something like `myBook = Ref('Esther 1')`, and if you want the third verse of the third chapter, it would look like `myBook = Ref('Esther 3:3')`. \n",
    "\n",
    "Your turn! Try first retyping these snippets of code into the space below and running them, and then go to this page of acceptable Sefaria reference forms and practice making your own Sefaria references and saving them to variable names.\n",
    "\n",
    "The Ultimate Sefaria Reference Guide: https://github.com/Sefaria/Sefaria-Project/wiki/Text-References\n"
   ]
  },
  {
   "cell_type": "code",
   "execution_count": 7,
   "metadata": {},
   "outputs": [
    {
     "name": "stdout",
     "output_type": "stream",
     "text": [
      "This reference refers to: תהילים ק״נ:ב׳\n"
     ]
    }
   ],
   "source": [
    "# Fill in your reference below!\n",
    "myBook = Ref('Tehilim 150:2')\n",
    "\n",
    "# Printing out the title of the reference in Hebrew. \n",
    "# (For an English title, replace the end with 'myBook.normal()'')\n",
    "print(\"This reference refers to: \" + myBook.he_normal())"
   ]
  },
  {
   "cell_type": "markdown",
   "metadata": {},
   "source": [
    "### Let's get some text!\n",
    "Now we're going to introduce another class from Sefaria which will allow us to get the text corresponding to our `Ref()` reference from the database. This class is called `TextChunk`, and once we pass the `Ref()` in - it'll be easy to retrieve the Hebrew or English text! \n",
    "\n",
    "Currently, this code works if you make your reference to a specific verse. However, below is code (in the comments) for printing out an entire book chapter by chapter - feel free to play with both versions. "
   ]
  },
  {
   "cell_type": "code",
   "execution_count": 8,
   "metadata": {},
   "outputs": [
    {
     "name": "stdout",
     "output_type": "stream",
     "text": [
      "הַ֥לְלוּ יָ֨הּ ׀ הַֽלְלוּ־אֵ֥ל בְּקָדְשׁ֑וֹ הַֽ֝לְל֗וּהוּ בִּרְקִ֥יעַ עֻזּֽוֹ׃\n",
      "He is the glory of all His saints.\n"
     ]
    }
   ],
   "source": [
    "# Fill in your reference below!\n",
    "myBook = Ref('Tehilim 150:1')\n",
    "\n",
    "# Create a list to store our resulting array of text\n",
    "myHeText = TextChunk(myBook, \"he\").text\n",
    "myEnText = TextChunk(myBook).text\n",
    "\n",
    "print(myHeText)\n",
    "print(myEnText)\n",
    "\n",
    "\n",
    "# Code for printing a whole book by chapter\n",
    "# chapter = 1\n",
    "# for i in range(len(myHeText)):\n",
    "#    print(\"___________________________\")\n",
    "#    print(\"Chapter \" + str(chapter))\n",
    "#    print(\"___________________________\")\n",
    "#    for j in range(len(myHeText[i])):\n",
    "#       print(myHeText[i][j])\n",
    "#        print(myEnText[i][j])\n",
    "#    chapter += 1"
   ]
  },
  {
   "cell_type": "markdown",
   "metadata": {},
   "source": [
    "## And you're off!\n",
    "Congratulations! You are now a programmer with quite a few Python programs under your belt (yup, every separate piece of code in its own cell is called a program!) You now know about:\n",
    "\n",
    "1. Expressions\n",
    "2. Operators\n",
    "3. Data Types\n",
    "4. Variables\n",
    "5. Strings\n",
    "6. String concatenation\n",
    "7. The `print()` method\n",
    "8. Using the Sefaria Database for `Ref()` and `TextChunk()` to get Jewish text!\n",
    "\n",
    "Seem like a lot? Good. You should feel very proud of everything you accomplished in this lesson, and get excited for a bright future of more technology, more challenging problems to solve, and a Jewish Community to impact!"
   ]
  }
 ],
 "metadata": {
  "kernelspec": {
   "display_name": "educationProj",
   "language": "python",
   "name": "educationproj"
  },
  "language_info": {
   "codemirror_mode": {
    "name": "ipython",
    "version": 2
   },
   "file_extension": ".py",
   "mimetype": "text/x-python",
   "name": "python",
   "nbconvert_exporter": "python",
   "pygments_lexer": "ipython2",
   "version": "2.7.10"
  }
 },
 "nbformat": 4,
 "nbformat_minor": 2
}
