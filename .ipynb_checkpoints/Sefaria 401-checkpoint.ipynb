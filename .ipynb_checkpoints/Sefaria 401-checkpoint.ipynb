{
 "cells": [
  {
   "cell_type": "markdown",
   "metadata": {},
   "source": [
    "# Sefaria 401: Using Sefaria like a Software Engineer"
   ]
  },
  {
   "cell_type": "markdown",
   "metadata": {},
   "source": [
    "If you're in this Jupyter Notebook, you've most probably used Sefaria before (and if not, check it out at https://sefaria.org), but let's go under the hood and use it the way the software engineer inside of you can - using code to access the texts stored in the database directly.\n",
    "\n",
    "First, let's set up our environment, import the database and do some other technical stuff you honestly don't need to understand fully right now. We'll learn a little bit more about what's going on here in future lessons.\n",
    "\n",
    "### What's a Database?\n",
    "Good question. A database is an organized way through which the computer can store lots of data in memory in a way that's sort of reminiscent of a spreadsheet. Sefaria has one in which it stores all of its texts. We need to import the Sefaria database into our code so we can access all of the texts and use them for our lesson, and eventually our code! \n",
    "\n",
    "*To learn more about databases, check out: https://www.youtube.com/watch?v=wR0jg0eQsZA)*\n",
    "\n",
    "**Note:** The first time you run the cell below, it is totally expected that two `WARNING` bars are printed in the output. Don't worry about it, just ignore and keep going."
   ]
  },
  {
   "cell_type": "code",
   "execution_count": null,
   "metadata": {},
   "outputs": [],
   "source": [
    "# Setting up some important environmental variables\n",
    "# that will allow the Jupyter Notebook to work with the\n",
    "# Sefaria internal code settings\n",
    "import os\n",
    "os.environ.setdefault(\"DJANGO_SETTINGS_MODULE\", \"sefaria.settings\")\n",
    "\n",
    "# Importing Django, an important code module which helps the \n",
    "# website talk to the Python code of Sefaria\n",
    "import django\n",
    "django.setup()\n",
    "\n",
    "# Importing the Sefaria Database\n",
    "from sefaria.model import *\n",
    "import sefaria.system.database as database"
   ]
  },
  {
   "cell_type": "markdown",
   "metadata": {},
   "source": [
    "### Text References\n",
    "In order to get a text from the Sefaria database, we have to do something called \"creating a text reference.\" Just like we have ways of referring to books at a library (using the specific barcode or the title) we need to refer to the books in the Sefaria database. There are specific ways of referring to books, and then you plug that formula between the quotes of code that looks like this: `myBook = Ref(' ')`. Let's take a look:"
   ]
  },
  {
   "cell_type": "code",
   "execution_count": null,
   "metadata": {},
   "outputs": [],
   "source": [
    "# This code creates a references to the first pasuk of Parshat Lech-Lecha\n",
    "lechLecha = Ref(\"Genesis 12:1\")"
   ]
  },
  {
   "cell_type": "markdown",
   "metadata": {},
   "source": [
    "To test whether or not that worked, I can run a method (think of a method like a command of sorts) and have the reference print the Hebrew way to refer to that section of text. "
   ]
  },
  {
   "cell_type": "code",
   "execution_count": null,
   "metadata": {},
   "outputs": [],
   "source": [
    "hebrewTitle = lechLecha.he_normal()\n",
    "print(hebrewTitle)"
   ]
  },
  {
   "cell_type": "markdown",
   "metadata": {},
   "source": [
    "### More Specific Examples...\n",
    "\n",
    "To refer to a whole book, you can type in the title of the book, like `myBook = Ref('Esther')`\n",
    "\n",
    "Just like real life books are divided into **chapters** and **verses**, Sefaria divides up books in **segments** and **sections**. So if you want the first chapter of Esther, your text reference is going to look something like `myBook = Ref('Esther 1')`, and if you want the third verse of the third chapter, it would look like `myBook = Ref('Esther 3:3')`. \n",
    "\n",
    "Your turn! Try first running the code below with different references inside the parenthesis. \n",
    "\n",
    "The Ultimate Sefaria Reference Guide: https://github.com/Sefaria/Sefaria-Project/wiki/Text-References"
   ]
  },
  {
   "cell_type": "code",
   "execution_count": null,
   "metadata": {},
   "outputs": [],
   "source": [
    "# This creates and saves a reference to Genesis 1:1\n",
    "# Can you change the text in quotes to be a reference\n",
    "# to a different text in the Sefaria database?\n",
    "myBook = Ref(\"chronicles I 2:1\")\n",
    "\n",
    "# This code saves the reference's Hebrew title\n",
    "# under the name \"hebrewTitle\"\n",
    "hebrewTitle = myBook.he_normal()\n",
    "\n",
    "# This part of the code prints\n",
    "# the Hebrew title to the screen for\n",
    "# us to see. \n",
    "print(hebrewTitle)"
   ]
  },
  {
   "cell_type": "markdown",
   "metadata": {},
   "source": [
    "### Let's get some text!\n",
    "Now we're going to introduce another class from Sefaria which will allow us to get the text corresponding to our `Ref()` reference from the database. This class is called `TextChunk`, and once we pass the `Ref()` in - it'll be easy to retrieve the Hebrew or English text! \n",
    "\n",
    "Our code will look something like this:\n",
    "\n",
    "```Python\n",
    "myRef = Ref(\"\")\n",
    "myText = TextChunk(myRef).text\n",
    "```\n",
    "\n",
    "Currently, this code works if you make your reference to a specific verse. In future lessons, perhaps we'll expand our skills to learn how to retrieve entire chapters, and even entire books!\n",
    "\n",
    "Try playing around with different references..."
   ]
  },
  {
   "cell_type": "code",
   "execution_count": null,
   "metadata": {},
   "outputs": [],
   "source": [
    "# Fill in your reference below!\n",
    "myBook = Ref('Psalms 119:1')\n",
    "\n",
    "# Create a list to store our resulting array of text\n",
    "myHeText = TextChunk(myBook, \"he\").text                # Getting the Hebrew text by adding the \"he\"\n",
    "myEnText = TextChunk(myBook).text                      # Getting the English text\n",
    "\n",
    "print(myHeText)\n",
    "print(myEnText)"
   ]
  },
  {
   "cell_type": "markdown",
   "metadata": {},
   "source": [
    "## Build your first program using Sefaria!\n",
    "Using the coding technique and Sefaria skills you learned above, including `print()`, `Ref()` and `TextChunk`, can you modify the code below so instead of intaking a name from the user, it intakes a valid Sefaria reference, and then returns the corresponding pasuk?\n",
    "\n",
    "Steps\n",
    "1. Run the current program as-is, and see what it does. \n",
    "2. Read all of the comments, and add your own based on things you observe while running the code. \n",
    "3. Add `Ref()` and `TextChunk()` where the comments instruct you to do so. Use the code in the cells above for help. \n",
    "\n",
    "The desired result will look something as follows:\n",
    "```Text\n",
    "Welcome to the TorahBot (powered by Sefaria)\n",
    "Give us a reference to a pasuk, and we'll return the text to you!\n",
    "\n",
    "Pasuk: [[user inputs the pasuk here]]\n",
    "Pasuk: Genesis 1:1\n",
    "\n",
    "Text:\n",
    "\"בראשית ברא א-לוקים....\"\n",
    "\"In the beginning....\"\n",
    "\n",
    "```\n",
    "\n",
    "**Important Note:** ALL programmers encounter \"bugs\" or errors frequently. It is normal for you to have an error as you play with this code. Try copying and pasting the error statement, and Googling if other people had the same error, and how they solved it. Computer scientists love Google searches... \n",
    "\n",
    "**Useful Sites for Python Help:**\n",
    "- To learn more about `print()`: https://www.w3schools.com/python/ref_func_print.asp \n",
    "- To learn more about `raw_input()`: https://linoxide.com/linux-how-to/python-raw-input-function-examples/\n",
    "- To learn more about variables (like `name` in the code below) : https://www.w3schools.com/python/python_variables.asp"
   ]
  },
  {
   "cell_type": "code",
   "execution_count": null,
   "metadata": {},
   "outputs": [],
   "source": [
    "# These two lines print out the initial instructions\n",
    "# and welcome message. You can change the text inside the \n",
    "# quotation marks to be more appropriate for your modified\n",
    "# program. \n",
    "print(\"Welcome to the Greeting Machine!\")\n",
    "print(\"You give us your name, we'll greet you!\")\n",
    "\n",
    "# This asks the user to give us their name. You\n",
    "# can change the text inside the quotation marks to\n",
    "# ask the user to provide us with a pasuk. \n",
    "print(\"Name: \"), \n",
    "\n",
    "# This line uses a special \"function\" called \n",
    "# raw_input() to collect the name of the user\n",
    "# and save it as \"name\". If you want, you can \n",
    "# change name to pasuk. \n",
    "name = raw_input()\n",
    "\n",
    "# Here, you'll want to call Ref() to create \n",
    "# a Sefaria text reference, putting what you\n",
    "# collected from above (name - or pasuk, if you \n",
    "# changed it) and putting it inside the parenthesis\n",
    "# like Ref(pasuk). \n",
    "\n",
    "\n",
    "# Here, you'll want to use that reference to\n",
    "# create Hebrew and English TextChunk().text\n",
    "\n",
    "\n",
    "# This part of the code prints the greeting, \n",
    "# you can change that to be more descriptive\n",
    "# of what this program will ultimately print\n",
    "print(\"Greetings, \"),\n",
    "\n",
    "# This line prints the name. You can change\n",
    "# it to print the desired pasuk in Hebrew. \n",
    "print(text)\n",
    "\n",
    "# Add another print statement below to print\n",
    "# the pasuk in English\n",
    "\n"
   ]
  },
  {
   "cell_type": "markdown",
   "metadata": {},
   "source": [
    "## Reflection\n",
    "1. What new Sefaria tools did you learn through this assignment?\n",
    "2. When do you think you'll be most likely to use those new skills?\n",
    "3. How do you think learning from online sources such as Sefaria is different than learning from traditional printed texts? What are the advantages of online learning? What are the disadvantages? Are there times when learning from a hard-copy text is a better choice?\n",
    "4. Do you think the nature of learning is transforming in the digital age? Explain your position.\n",
    "5. Imagine you had a few more computer science tools under your belt, what would your dream technology/program/app be now that you know how to access text from the Sefaria database? Explain why you think your invention would be important or useful for the Jewish community?"
   ]
  }
 ],
 "metadata": {
  "kernelspec": {
   "display_name": "educationProj",
   "language": "python",
   "name": "educationproj"
  },
  "language_info": {
   "codemirror_mode": {
    "name": "ipython",
    "version": 2
   },
   "file_extension": ".py",
   "mimetype": "text/x-python",
   "name": "python",
   "nbconvert_exporter": "python",
   "pygments_lexer": "ipython2",
   "version": "2.7.10"
  }
 },
 "nbformat": 4,
 "nbformat_minor": 2
}
