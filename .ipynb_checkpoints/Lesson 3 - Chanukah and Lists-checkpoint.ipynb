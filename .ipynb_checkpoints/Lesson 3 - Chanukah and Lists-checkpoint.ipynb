{
 "cells": [
  {
   "cell_type": "markdown",
   "metadata": {},
   "source": [
    "# Looping Through Law\n",
    "## A Lesson in Loops, Lists and the Laws of Chanukah Candles\n",
    "In this lesson, the student will:\n",
    "- Use Python to retrieve a halachic text from the Sefaria Database \n",
    "- Understand and then subsequently be able to implement Python lists, dictionaries and loops\n",
    "- Study the laws of Chanukah Candles\n",
    "- Use their knowledge of halacha and Python to build a Chanukiyah simulation"
   ]
  },
  {
   "cell_type": "markdown",
   "metadata": {},
   "source": [
    "### Setting Up Sefaria \n",
    "You're used to this code by now, so feel free to skip to the next section. "
   ]
  },
  {
   "cell_type": "code",
   "execution_count": 70,
   "metadata": {},
   "outputs": [
    {
     "name": "stderr",
     "output_type": "stream",
     "text": [
      "WARNING Failed to load 're2'.  Falling back to 're' for regular expression parsing. See https://github.com/Sefaria/Sefaria-Project/wiki/Regular-Expression-Engines\n",
      "WARNING Failed to load 're2'.  Falling back to 're' for regular expression parsing. See https://github.com/blockspeiser/Sefaria-Project/wiki/Regular-Expression-Engines\n"
     ]
    }
   ],
   "source": [
    "# Setting up some important environmental variables\n",
    "# that will allow the Jupyter Notebook to work with the\n",
    "# Sefaria internal code settings\n",
    "import os\n",
    "os.environ.setdefault(\"DJANGO_SETTINGS_MODULE\", \"sefaria.settings\")\n",
    "\n",
    "# Importing Django, an important code module which helps the \n",
    "# website talk to the Python code of Sefaria\n",
    "import django\n",
    "django.setup()\n",
    "\n",
    "# Importing a regular expressions module that we'll be studying\n",
    "# in-depth later. \n",
    "import re\n",
    "\n",
    "# Importing the Sefaria Database\n",
    "from sefaria.model import *\n",
    "import sefaria.system.database as database"
   ]
  },
  {
   "cell_type": "markdown",
   "metadata": {},
   "source": [
    "For this specific code to work, we need to declare a specific function called `formatHebrew()` that will help format our databse results in a pretty way. For now, you can look at the code if you choose, or skip it. We'll be learning more about the `regular expressions` that fuel it later in this course."
   ]
  },
  {
   "cell_type": "code",
   "execution_count": 71,
   "metadata": {},
   "outputs": [],
   "source": [
    "def formatHebrew(myTextArr):\n",
    "    \n",
    "    # Regular expression pattern\n",
    "    pattern = re.compile(r'>(.*?)<', flags=re.DOTALL)\n",
    "    \n",
    "    # List to contain the parsed results from\n",
    "    # the regular expression\n",
    "    scrapedHebrew = []\n",
    "    \n",
    "    # For each halacha in the array of\n",
    "    # text.\n",
    "    for halacha in myTextArr:\n",
    "        \n",
    "        # Use regex pattern to match, save\n",
    "        # results in data\n",
    "        data = re.findall(pattern, halacha)\n",
    "        \n",
    "        # If data isn't blank, append \n",
    "        # to scraped Hebrew\n",
    "        for i in range(len(data)):\n",
    "            if data[i]:\n",
    "                scrapedHebrew.append(data[i])\n",
    "                \n",
    "    # return the scraped Hebrew list\n",
    "    return scrapedHebrew"
   ]
  },
  {
   "cell_type": "markdown",
   "metadata": {},
   "source": [
    "## Using Sefaria like a Software Engineer... Who's also a Halachist....\n",
    "Previously, we learned what the Sefaria Database is, and how to use `Ref()` and `TextChunk()` to retrieve specific Talmudic passages. Let's continue to build on that knowledge today, and figure out how to use those same `classes` to retrieve a halachic text. \n",
    "\n",
    "**Review:** Just like we may break up books into chapters and verses, Sefaria stores texts in its database in terms of sections and segments. What these sections and segments correlate to depends on the nature of the text itself. You may recall, that previously we learned in the world of Talmudic references, a section refers to an entire two-sided Daf, and a segment refers to specific one-side or Amud within that Daf. Beyond that, to get a specific excerpt from the amud, we used a numeric system. \n",
    "\n",
    "\n",
    "Now, let's learn how to use references for halachic texts, like today's topic, which can be found in the Shulchan Aruch. The Shulchan Aruch is one of the most central halachic codes for the Jewish people (learn more here: ) and is broken up into four sections:\n",
    "1. Orach Chaim\n",
    "2. Choshen Mishpat\n",
    "3. Even HaEzer\n",
    "4. Yoreh De'ah\n",
    "\n",
    "To make a reference to the Shulchan Aruch, you have to know which section you'd like to retrieve a halacha from. Valid references may look something like:\n",
    "\n",
    "> `laws_of_daily_living = Ref(\"Shulchan Aruch, Orach Chaim\")`\n",
    "\n",
    "> `monetary_law = Ref(Shulchan Aruch, Choshen Mishpat)`\n",
    "\n",
    "> `laws_of_marriage = Ref(Shulchan Aruch, Even HaEzer)`\n",
    "\n",
    "> `laws_of_kashrut_and_more = Ref(\"Shulchan Aruch, Yoreh Deah\")`\n",
    "\n",
    "And then, after the specific section, the individual laws are listed numerically. Use the space below to use `Ref()` as we've learned in previous lessons to pick a random halacha and print its title in Hebrew and English. "
   ]
  },
  {
   "cell_type": "code",
   "execution_count": 72,
   "metadata": {},
   "outputs": [
    {
     "name": "stdout",
     "output_type": "stream",
     "text": [
      "Hebrew Title: אורח חיים א׳\n",
      "English Title: Shulchan Arukh, Orach Chayim 1\n",
      "------------------------------------------\n"
     ]
    }
   ],
   "source": [
    "# Fill in your reference below!\n",
    "myHalacha = Ref('Shulchan Aruch, Orach Chaim 1')\n",
    "\n",
    "# Printing out the title of the reference in Hebrew. \n",
    "print(\"Hebrew Title: \" + myHalacha.he_normal())\n",
    "print(\"English Title: \" + myHalacha.normal())\n",
    "print(\"------------------------------------------\")\n"
   ]
  },
  {
   "cell_type": "markdown",
   "metadata": {},
   "source": [
    "Now, let's pass that `Ref()` through `TextChunk()` to retrieve the corresponding text. Just like even an amud of gemara had sub-segments within it, a halacha in the Shulchan Aruch is sub-divided into *se'ifim*, different specific laws under that general heading. When we call `TextChunk()` on an entire halacha, we receive in return a `list` (stay tuned) that we `loop` through to print every one of the sub-divisions. See the code below..."
   ]
  },
  {
   "cell_type": "code",
   "execution_count": 73,
   "metadata": {},
   "outputs": [
    {
     "name": "stdout",
     "output_type": "stream",
     "text": [
      "דין השכמת הבוקר ובו ט סעיפים: יתגבר  כארי לעמוד בבוקר לעבודת בוראו  שיהא הוא מעורר  השחר:  הגה ועכ\"פ לא יאחר זמן התפלה שהצבור מתפללין. (טור) הגה  שויתי ה' לנגדי תמיד הוא כלל גדול בתורה ובמעלות הצדיקים אשר הולכים לפני האלהים כי אין ישיבת האדם ותנועותיו ועסקיו והוא לבדו בביתו כישיבתו ותנועותיו ועסקיו והוא לפני מלך גדול ולא דבורו והרחבת פיו כרצונו והוא עם אנשי ביתו וקרוביו כדבורו במושב המלך כ\"ש כשישים האדם אל לבו שהמלך הגדול הקב\"ה אשר מלא כל הארץ כבודו עומד עליו ורואה במעשיו כמו שנאמר אם יסתר איש במסתרים ואני לא אראנו נאום ה' מיד יגיע אליו הירא' וההכנעה בפחד הש\"י ובושתו ממנו תמיד (מורה נבוכים ח\"ג פ' כ\"ב) ולא יתבייש  מפני בני אדם  המלעיגים עליו בעבודת הש\"י גם בהצנע לכת ובשכבו על משכבו ידע לפני מי הוא שוכב  ומיד כשיעור משנתו יקום  בזריזות לעבודת בוראו יתברך ויתעלה (טור): המשכים להתחנן לפני בוראו יכוין לשעות שמשתנות המשמרות שהן בשליש הלילה ולסוף שני שלישי הלילה  ולסוף הלילה  ראוי לכל ירא שמים  שיהא מיצר ודואג על  טוב  מעט תחנונים  טוב לומר  פ'  העקדה ופ' המן  ועשרת הדברות  ופרשת  עולה ומנחה  ושלמים  וחטאת ואשם:  הגה  ודוקא ביחיד מותר לומר י' הדברות בכל יום אבל אסור לאומרם  בצבור (תשו' הרשב\"א סימן קפ\"ד): פרשיות הקרבנות לא יאמר  אלא  ביום.   (וע\"ל סי' מ\"ז סעיף י\"ג) כשיסיים פרשת העולה יאמר  יהר\"מ שיהא זה חשוב ומקובל כאלו הקרבתי עולה וכך יאמר אחר פ' המנחה והשלמים  מפני  שהם באים  יאמר עם הקרבנות  פ'  יש נוהגין לומר פ' הכיור ואח\"כ פרשת תרומת הדשן ואח\"כ פ' התמיד ואח\"כ פרשת מזבח  מקטר קטורת ופרשת סממני הקטורת \n"
     ]
    }
   ],
   "source": [
    "# Create a list to store our resulting list of text\n",
    "myHeText = TextChunk(myHalacha, \"he\").text\n",
    "myEnText = TextChunk(myHalacha).text \n",
    "    \n",
    "# Now we have to pass the text through the formatHebrew() method \n",
    "# which returns a list of Hebrew we get to then print line by line. \n",
    "niceHebrew = formatHebrew(myHeText)\n",
    "\n",
    "for each in niceHebrew:\n",
    "    print(each),           "
   ]
  },
  {
   "cell_type": "markdown",
   "metadata": {},
   "source": [
    "## Lists, Dictionaries and Loops\n",
    "Alright, so in the code above, while we may be beginning to grasp `Ref()` and `TextChunk()` what in the world is all the other stuff doing? Let's even forget about our formatting function, but what are all of these `for`s and `# list of text` comments? Let's explore...\n",
    "\n",
    "### Storing Lots of Information in One Place\n",
    "So remember when we learned about variables? How you can save some numbers, words or other data under a certain virtual box with a name? Like `favoriteHoliday = \"Purim\"` or `numberOfMitzvot = 613`? Well, what if we wanted to store all of the holidays and make a `jewishCalendar` variable? And what if we wanted to store them so they all still had their own unique virtual boxes, but were collected under on variable reference?\n",
    "\n",
    "### Introducing The Python `list`! \n",
    "Python has this really cool thing called a list which does exactly that! Lists are exceptionally powerful, and are the backbone of SO. MUCH. in computer science, including the way Sefaria runs! When we run code like `myEnText = TextChunk(myHalacha).text`, what it is actually doing is taking all of the sections in the halacha segment given, and putting them into a `list` called `myEnText`. (See, you've been using lists all along! Let's dive deeper into how they work though so we can use them more effectively and more creatively...)\n",
    "\n",
    "*Note: If you're thinking right now, hmmm... a `list` sounds just like a list we may write on paper in real life, trust your intuition. Just like a \"grocery list\" may have names of a bunch of groceries all contained in one place, a Python list does pretty much the same thing. *\n",
    "\n",
    "### How do lists work? \n",
    "Let's look at the code below. Make sure to read the comments and attempt to run the code given the instructions there for a better understanding. As usual, this is only scratching the surface, so if you want to learn more, check out the following link for a more comprehensive understanding: https://www.w3schools.com/python/python_lists.asp\n"
   ]
  },
  {
   "cell_type": "code",
   "execution_count": 74,
   "metadata": {},
   "outputs": [
    {
     "name": "stdout",
     "output_type": "stream",
     "text": [
      "[]\n",
      "()\n",
      "['Reuven', 'Shimon', 'Levi', 'Yehudah', 'Yisachar', 'Zvulun']\n",
      "()\n"
     ]
    }
   ],
   "source": [
    "# Creating an empty list is just like creating a variable (with a twist)\n",
    "# type the desired name, followed by an \"=\" and then square brackets\n",
    "jewishHolidays = []\n",
    "\n",
    "# Declare your own empty list under this comment\n",
    "# (You can copy the syntax above if needed)\n",
    "\n",
    "\n",
    "#######################\n",
    "\n",
    "# You can also declare a list non-empty\n",
    "# that is, with stuff in it already\n",
    "sixTribes = [\"Reuven\", \"Shimon\", \"Levi\", \"Yehudah\", \"Yisachar\", \"Zvulun\"]\n",
    "\n",
    "# Notice how each individual item on the list is separated from the one before it with a comma. \n",
    "\n",
    "# Try your own below.\n",
    "\n",
    "\n",
    "#####################\n",
    "\n",
    "# Now, let's see our handy work and try printing all four lists we created\n",
    "print(jewishHolidays)\n",
    "print()                 # add your empty list here\n",
    "print(sixTribes)\n",
    "print()                 # add your non-empty list here"
   ]
  },
  {
   "cell_type": "markdown",
   "metadata": {},
   "source": [
    "### Diverse Data\n",
    "Lists in Python are super cool, in that the entries don't have to all be one type. In one list, you can store integers, boolean values (that's the `True` or `False` stuff we mentioned a few classes ago) and strings all together. *In the workspace above, try making a new list that contained a few different data types, and then printing that.*\n",
    "\n",
    "### Adding to a `list`\n",
    "When we want to add something to an existing list, and easy way to do that is to use the `.append()` method which adds whatever value we put inside those parentheses to the end of our list. Look at the example below, and try it out yourself. "
   ]
  },
  {
   "cell_type": "code",
   "execution_count": 75,
   "metadata": {},
   "outputs": [
    {
     "name": "stdout",
     "output_type": "stream",
     "text": [
      "Before Append:  ['Avraham', 'Sarah', 'Yitzchak']\n",
      "\n",
      "Post Append: ['Avraham', 'Sarah', 'Yitzchak', 'Rivka']\n"
     ]
    }
   ],
   "source": [
    "biblicalPeople = [\"Avraham\", \"Sarah\", \"Yitzchak\"]\n",
    "\n",
    "print(\"Before Append: \"),\n",
    "print(biblicalPeople)\n",
    "\n",
    "biblicalPeople.append(\"Rivka\")\n",
    "\n",
    "print(\"\\nPost Append:\"),\n",
    "print(biblicalPeople)"
   ]
  },
  {
   "cell_type": "markdown",
   "metadata": {},
   "source": [
    "### Other `list` methods to try\n",
    "- `len(myList)` gives you the length of your list \n",
    "- `myList.insert(1, \"Noah\")` will insert a value at a given index in the middle of your list\n",
    "- `myList.remove(\"Noah\")` will remove a value from your list. \n",
    "And there are plenty more, keep this link (https://docs.python.org/2/tutorial/datastructures.html) handy for a \"list\" of the methods you can use to manipulate your list. \n",
    "\n",
    "### Indexing!\n",
    "Computer science is funny, in that we refer to the position of an item in a list starting from 0. So for example if my code looked something like the following:\n",
    "\n",
    "> `tefilot = [\"Modeh Ani\", \"Shema\", \"Aleinu\"]`\n",
    "\n",
    "While it is true that `\"Modeh Ani\"` is technically the first item in the list, because of computer science counting starting at 0, we refer to it as the 0-th item in the list. Therefore, if we were to label each item with its position we'd get something like:\n",
    "\n",
    "POSITION | ITEM\n",
    "---------|-----\n",
    "0 | \"Modeh Ani\"\n",
    "1 | \"Shema\"\n",
    "2 | \"Aleinu\"\n",
    "\n",
    "So even though the length of the list is 3 (and yes, if you call `len(tefilot)` it will yield a 3), we refer to those three items as item 0, item 1, and item 2. Don't worry if this seems strange now, you'll get the hang of it quickly. \n",
    "\n",
    "### Using Indexing\n",
    "So what if we want to refer to something in the middle of the list? Or even use the method listed above `.insert(pos, item)` which requires us to give it the desired position? We just remember to count from 0, and everything is very easy. Check out the code and the comments below to practice using indexing. "
   ]
  },
  {
   "cell_type": "code",
   "execution_count": 76,
   "metadata": {},
   "outputs": [
    {
     "name": "stdout",
     "output_type": "stream",
     "text": [
      "12\n",
      "[12, 13, '15', 16, True, 'bye', 43]\n"
     ]
    }
   ],
   "source": [
    "stuff = [12, \"hello\", \"15\", 16, True, \"bye\", 43]\n",
    "\n",
    "# Finish the print statements below to print only the integer\n",
    "# values in the list above. (And not numbers contained in strings)\n",
    "print(stuff[0])\n",
    "\n",
    "\n",
    "# Replacing the strings with integers\n",
    "# I've replaced \"hello\" with a different value\n",
    "# can you replace the other strings with integers copying\n",
    "# the syntax below?\n",
    "stuff[1] = 13\n",
    "\n",
    "\n",
    "\n",
    "print(stuff)"
   ]
  },
  {
   "cell_type": "markdown",
   "metadata": {},
   "source": [
    "## Dictionaries!\n",
    "There's a TON to say on dictionaries (and for more, check out: https://www.w3schools.com/python/python_dictionaries.asp)\n",
    "\n",
    "For now, let's think of them as lists that instead of having POSITIONS have KEYS (or titles). While the syntax to set one up is a little different (think `{}` instead of `[]`) they otherwise work the same way as a list, except for the fact that to grab a piece of data, you index the dictionary using the associated key, as opposed to a position number. (And UNLIKE lists, you can just add data the same way you'd index it)\n",
    "\n",
    "Let's play around with this example to get a better sense for things..."
   ]
  },
  {
   "cell_type": "code",
   "execution_count": 77,
   "metadata": {},
   "outputs": [
    {
     "name": "stdout",
     "output_type": "stream",
     "text": [
      "The name of my synagogue is Congregation Sefaria\n",
      "\n",
      "This is what an entire dictionary looks like:\n",
      "{'established': 2013, 'hasYouthProgram': True, 'name': 'Congregation Sefaria'}\n"
     ]
    }
   ],
   "source": [
    "# This initiates an empty ditionary called \"shul\" (yiddish for synagogue)\n",
    "shul = {}\n",
    "\n",
    "# Now, we use specific KEYS to add correlating data points\n",
    "shul[\"name\"] = \"Congregation Sefaria\"\n",
    "shul[\"established\"] = 2013\n",
    "shul[\"hasYouthProgram\"] = True\n",
    "\n",
    "# Then, if we want to access any of the data, we just grab it using the \n",
    "# key we set it up with!\n",
    "print(\"The name of my synagogue is \" + shul[\"name\"])\n",
    "\n",
    "# If we print the entire dictionary, we get all of the keys followed\n",
    "# by their corresponding data with a \":\" in between and commas separating\n",
    "# between the key:data pairs.\n",
    "print(\"\\nThis is what an entire dictionary looks like:\")\n",
    "print(shul)"
   ]
  },
  {
   "cell_type": "markdown",
   "metadata": {},
   "source": [
    "Can you edit the code above to print out a welcome message to new members? Try to add a few more key:data pairs, and get creative! What other data might a synagogue need to keep track of? What might new members want to know after signing up for membership?"
   ]
  },
  {
   "cell_type": "markdown",
   "metadata": {},
   "source": [
    "## Loops\n",
    "Time to move from just being a computer scientist who can *store* information in a cool way to being a computer scientist who can also *automate data manipulation*. Yup, that's right. Loops are powerful enough that you can automatically change a bunch of data kept in a list... \n",
    "\n",
    "### For Loops\n",
    "A for loop is a way to go through every item in a list (another fancy term to use instead of \"go through\" is iterate. We'll say that a loop iterates through a list). Let's say we have a list of numbers and we want to add them all together, we'll write a for loop that looks something like this:\n",
    "\n",
    "```python\n",
    "sum = 0\n",
    "\n",
    "numberList = [1, 2, 3, 4]\n",
    "\n",
    "for number in numberList:\n",
    "    sum = sum + number\n",
    "```\n",
    "What's happening above is that the `number` variable (and yes, it's a variable, so you can name it whatever you want) after the `for` goes through every value in the list, taking on the quantity each time through. So the first time, `number = 1`, and then it does the action on the inside. Then, it switches and `number = 2` and then the internal action is repeated. This is done again and again until the for loop reaches the end of the list. \n",
    "\n",
    "Write a for loop below that prints out all of the quantities in a list. \n"
   ]
  },
  {
   "cell_type": "code",
   "execution_count": 78,
   "metadata": {},
   "outputs": [
    {
     "name": "stdout",
     "output_type": "stream",
     "text": [
      "I\n",
      "love\n",
      "learning\n",
      "new\n",
      "things\n",
      "True\n"
     ]
    }
   ],
   "source": [
    "# You got this!\n",
    "a = [\"I\", \"love\", \"learning\", \"new\", \"things\", True]\n",
    "\n",
    "for item in a:\n",
    "    print(item)"
   ]
  },
  {
   "cell_type": "markdown",
   "metadata": {},
   "source": [
    "### Repeated Actions with Range\n",
    "Another way to use for loops is to set up a variable (conventionally called `i` or `j` usually, but only by convention - like computer science slang) and have it automatically go until it hits a limit. For example, you can set a variable `i ` and  say `for i in range(10)` (`i` will be automatically declared as `0` this way). Everytime through the loop, the `i` variable will increase by one (unless you specify another behavior like decreasing by one, or increasing by another value etc) and then perform the nested action. This will continue until the `i` reaches the limit inside the range. (Important: Range is *exclusive* which means it will go up **until** the value inside the parenthesis, but not to it fully. This will become clearer as we play with it more)"
   ]
  },
  {
   "cell_type": "code",
   "execution_count": 79,
   "metadata": {},
   "outputs": [
    {
     "name": "stdout",
     "output_type": "stream",
     "text": [
      "0 *\n",
      "1 **\n",
      "2 ***\n",
      "3 ****\n",
      "4 *****\n",
      "5 ******\n",
      "6 *******\n",
      "7 ********\n",
      "8 *********\n",
      "9 **********\n"
     ]
    }
   ],
   "source": [
    "# Run with the following bit of code, see what prints, and then modify it!\n",
    "# What happens if you change the value of i, the range, or what's printed?\n",
    "\n",
    "i = 1\n",
    "stars = \"*\"\n",
    "for i in range(10):\n",
    "    print(i), \n",
    "    print(stars)\n",
    "    stars += \"*\"\n"
   ]
  },
  {
   "cell_type": "markdown",
   "metadata": {},
   "source": [
    "### While Loops\n",
    "While loops are a little different. Instead of doing something until it reaches the end of a list, or the end of a range, a while loop will continuously execute the block of code nested inside of it as long as a certain condition remains true. Every time before it performs the code, it checks to see if the condition has been invalidated yet. Once the condition is invalidated, then the while loop exits and does not execute the code anymore. (Note: if the condition will always be true, then the while loop will go on forever and never end, which is BAD NEWS. Called an infinite loop, and will cause your program to crash - so when coding with while loops, always make sure there's a way for the loop to end.)\n",
    "\n",
    "For more information: https://www.w3schools.com/python/python_while_loops.asp\n",
    "\n",
    "In the meantime, ler's play with the while loop below."
   ]
  },
  {
   "cell_type": "code",
   "execution_count": 80,
   "metadata": {},
   "outputs": [
    {
     "name": "stdout",
     "output_type": "stream",
     "text": [
      "Bedikat Chametz\n",
      "\n",
      "Cleaning, cleaning, getting rid of all of my chametz\n",
      "Found some! Now only 9 pieces left to find!\n",
      "\n",
      "Cleaning, cleaning, getting rid of all of my chametz\n",
      "Found some! Now only 8 pieces left to find!\n",
      "\n",
      "Cleaning, cleaning, getting rid of all of my chametz\n",
      "Found some! Now only 7 pieces left to find!\n",
      "\n",
      "Cleaning, cleaning, getting rid of all of my chametz\n",
      "Found some! Now only 6 pieces left to find!\n",
      "\n",
      "Cleaning, cleaning, getting rid of all of my chametz\n",
      "Found some! Now only 5 pieces left to find!\n",
      "\n",
      "Cleaning, cleaning, getting rid of all of my chametz\n",
      "Found some! Now only 4 pieces left to find!\n",
      "\n",
      "Cleaning, cleaning, getting rid of all of my chametz\n",
      "Found some! Now only 3 pieces left to find!\n",
      "\n",
      "Cleaning, cleaning, getting rid of all of my chametz\n",
      "Found some! Now only 2 pieces left to find!\n",
      "\n",
      "Cleaning, cleaning, getting rid of all of my chametz\n",
      "Found some! Now only 1 pieces left to find!\n",
      "\n",
      "Cleaning, cleaning, getting rid of all of my chametz\n",
      "Found some! Now only 0 pieces left to find!\n",
      "\n",
      "House clean!\n"
     ]
    }
   ],
   "source": [
    "chametzAmount = 10\n",
    "\n",
    "print(\"Bedikat Chametz\\n\")\n",
    "\n",
    "while chametzAmount != 0:\n",
    "    print(\"Cleaning, cleaning, getting rid of all of my chametz\")\n",
    "    chametzAmount -= 1\n",
    "    print(\"Found some! Now only \" + str(chametzAmount) + \" pieces left to find!\\n\")\n",
    "    \n",
    "print(\"House clean!\")  "
   ]
  },
  {
   "cell_type": "markdown",
   "metadata": {},
   "source": [
    "## Putting it all together: A Chanukah Simulation!\n",
    "Let's put together our knowledge about the Sefaria database (with halacha references), for loops, while loops, lists and dictionaries to learn about Chanukah, and then build a simulation which models the appropriate way to light candles. \n",
    "\n",
    "### Step One: Learn\n",
    "Today you and your chevruta will be learning Shulchan Aruch Orach Chaim 676. \n",
    "- Use `Ref` and `TextChunk` to pull up the Text (as well as our `formatHebrew()` function) \n",
    "- Now that you understand lists and loops, you can revisit the way we've been printing text to try and understand what's going on...\n",
    "- Learn the text in Hebrew, and pay attention to what is supposed to happen each night of chanukah in terms of both candles and blessings"
   ]
  },
  {
   "cell_type": "code",
   "execution_count": 81,
   "metadata": {},
   "outputs": [
    {
     "name": "stdout",
     "output_type": "stream",
     "text": [
      "סדר הברכה וההדלקה ובו ה סעיפים המדליק בליל ראשון מברך שלש ברכות  להדליק נר חנוכה ושעשה נסים ושהחיינו  מליל ראשון ואילך מברך שתים להדליק ושעשה נסים:  הגה ויברך כל הברכות  קודם שיתחיל להדליק (מהרי\"ל) מי שלא הדליק  ואינו עתיד להדליק באותו הלילה  וגם  אין מדליקין עליו בתוך ביתו כשרואה נר חנוכה מברך שעשה נסים ובליל ראשון מברך גם שהחיינו  ואם אחר כך בליל ב' או ג' בא להדליק  אחר שהדליק  אומר הנרות  יתחיל להדליק בליל ראשון  בנר היותר  ימיני ובליל ב' כשיוסיף נר א' סמוך לו יתחיל ויברך על הנוסף שהוא יותר שמאלי  כדי  להפנות לימין וכן בליל שלישי כשיוסיף עוד א' סמוך לב' נרות הראשונות יתחיל בנוסף ובו יתחיל  The Order of the blessing and the lighting and there are five seifim (1) The one who lights on the first night blesses three blessings: Lehadlik ner Hanukkah, Sheasah nissim, and Shehekhianu. And if one did not bless on time on the first night, blesses on the second or when they remember.\n",
      "(2) From the first night onwards, one blesses two [blessings]: lehadlik and Sheasah nissim: Ra”ma: And one who blesses all the blessings before they begin to light. (Maharil)\n"
     ]
    }
   ],
   "source": [
    "# Fill in your reference below!\n",
    "hanuka = Ref('Shulchan Aruch, Orach Chaim 676')\n",
    "\n",
    "# Create a list to store our resulting list of text\n",
    "myHeText = TextChunk(hanuka, \"he\").text\n",
    "    \n",
    "# Now we have to pass the text through the formatHebrew() method \n",
    "# which returns a list of Hebrew we get to then print line by line. \n",
    "niceHebrew = formatHebrew(myHeText)\n",
    "\n",
    "for each in niceHebrew:\n",
    "    print(each),  \n",
    "    \n",
    "# Still not getting the translation I want\n",
    "myEnText = TextChunk(hanuka, \"en\", \"Sefaria Community Translation\").text\n",
    "for each in myEnText:\n",
    "    print(each)"
   ]
  },
  {
   "cell_type": "markdown",
   "metadata": {},
   "source": [
    "### Step Two: Build a Simulation\n",
    "Knowing what you know about Chanukah, as well as what you know about lists and loops, create a simulation that for each of the nights of Chanukah prints out which brachot to say, and a \"diagram\" of what the Chanukiyah looks like on that night (i.e. position of the new candle.)\n",
    "\n",
    "**ex: Sample Output for the First Night** \n",
    "```\n",
    "NIGHT 1 OF CHANUKAH\n",
    "Chanukiyah: [False, False, False, False, False, False, False, True]\n",
    "Brachot: L'hadlik ner, Sh'asah nissim, Shehechiyanu\n",
    "Then you say Haneirot Halalu\n",
    "Happy Chanukah!\n",
    "```\n",
    "\n",
    "Feel free to utilize other things we've learned (like if and else statements) to expand, customize and build on this simulation!"
   ]
  },
  {
   "cell_type": "code",
   "execution_count": 82,
   "metadata": {},
   "outputs": [
    {
     "name": "stdout",
     "output_type": "stream",
     "text": [
      "NIGHT 1 OF CHANUKAH\n",
      "Chanukiyah:  [False, False, False, False, False, False, False, True]\n",
      "Brachot: L'hadlik ner, Sh'asah nissim, Shehechiyanu\n",
      "Then you say Haneirot Halalu\n",
      "Happy Chanukah!\n",
      "\n",
      "NIGHT 2 OF CHANUKAH\n",
      "Chanukiyah:  [False, False, False, False, False, False, True, True]\n",
      "Brachot: L'hadlik ner, Sh'asah nissim\n",
      "Then you say Haneirot Halalu\n",
      "Happy Chanukah!\n",
      "\n",
      "NIGHT 3 OF CHANUKAH\n",
      "Chanukiyah:  [False, False, False, False, False, True, True, True]\n",
      "Brachot: L'hadlik ner, Sh'asah nissim\n",
      "Then you say Haneirot Halalu\n",
      "Happy Chanukah!\n",
      "\n",
      "NIGHT 4 OF CHANUKAH\n",
      "Chanukiyah:  [False, False, False, False, True, True, True, True]\n",
      "Brachot: L'hadlik ner, Sh'asah nissim\n",
      "Then you say Haneirot Halalu\n",
      "Happy Chanukah!\n",
      "\n",
      "NIGHT 5 OF CHANUKAH\n",
      "Chanukiyah:  [False, False, False, True, True, True, True, True]\n",
      "Brachot: L'hadlik ner, Sh'asah nissim\n",
      "Then you say Haneirot Halalu\n",
      "Happy Chanukah!\n",
      "\n",
      "NIGHT 6 OF CHANUKAH\n",
      "Chanukiyah:  [False, False, True, True, True, True, True, True]\n",
      "Brachot: L'hadlik ner, Sh'asah nissim\n",
      "Then you say Haneirot Halalu\n",
      "Happy Chanukah!\n",
      "\n",
      "NIGHT 7 OF CHANUKAH\n",
      "Chanukiyah:  [False, True, True, True, True, True, True, True]\n",
      "Brachot: L'hadlik ner, Sh'asah nissim\n",
      "Then you say Haneirot Halalu\n",
      "Happy Chanukah!\n",
      "\n",
      "NIGHT 8 OF CHANUKAH\n",
      "Chanukiyah:  [True, True, True, True, True, True, True, True]\n",
      "Brachot: L'hadlik ner, Sh'asah nissim\n",
      "Then you say Haneirot Halalu\n",
      "Happy Chanukah!\n",
      "\n"
     ]
    }
   ],
   "source": [
    "menorah = [False, False, False, False, False, False, False, False]\n",
    "\n",
    "for i in range(len(menorah)):\n",
    "    \n",
    "    # Number day is 1 more because counting starts at 0\n",
    "    day = i+1\n",
    "    \n",
    "    print(\"NIGHT \" + str(day) + \" OF CHANUKAH\")\n",
    "    \n",
    "    # Add a candle on the left of the previous night\n",
    "    menorah[len(menorah)-1-i] = True\n",
    "    print(\"Chanukiyah: \"),\n",
    "    print(menorah)\n",
    "    \n",
    "    # Check if first night before printing brachot\n",
    "    if day == 1:\n",
    "        print(\"Brachot: L'hadlik ner, Sh'asah nissim, Shehechiyanu\")\n",
    "    else:\n",
    "        print(\"Brachot: L'hadlik ner, Sh'asah nissim\")\n",
    "        \n",
    "    # Every night without change\n",
    "    print(\"Then you say Haneirot Halalu\")\n",
    "    print(\"Happy Chanukah!\\n\")"
   ]
  },
  {
   "cell_type": "markdown",
   "metadata": {},
   "source": [
    "## 2D Lists and Nested Loops\n",
    "While we're not going to go into detail about it here, it's important to note that there's such a thing called a 2D list - think of it as a list, where every item in the list *itself is a list*. \n",
    "\n",
    "```Python\n",
    "\n",
    "myList = [\n",
    "             [a, b, c, d],\n",
    "             [1, 2, 3, 4],\n",
    "             [True, \"Dog\", 12, \"Doughnuts\"]\n",
    "         ]```\n",
    "\n",
    "To iterate through a 2D list, we need to use two nested for loops, one to go through each item in the list, and one to go through each item within the sub-lists. Nested for-loops look something like this:\n",
    "\n",
    "```Python\n",
    "# Traverses the outer list (or the rows)\n",
    "for item in myList:\n",
    "    \n",
    "    # Traverses the inner sub-lists (or the columns)\n",
    "    for eachItem in item:\n",
    "        # do something\n",
    "```\n",
    "\n",
    "For some people, it helps to think of a 2D list like a checkerboard grid with rows and columns.\n",
    "\n",
    "### Why is this so important?\n",
    "\n",
    "When we make a call to the Sefaria database for an entire book of Tanach, what gets returned is a list of chapters, where each chapter is a list of verses. \n",
    "\n",
    "Let's take a look..."
   ]
  },
  {
   "cell_type": "code",
   "execution_count": 84,
   "metadata": {},
   "outputs": [
    {
     "name": "stdout",
     "output_type": "stream",
     "text": [
      "[[u'Now the word of the LORD came unto Jonah the son of Amittai, saying:', u'\\u2019Arise, go to Nineveh, that great city, and proclaim against it; for their wickedness is come up before Me.\\u2019', u'But Jonah rose up to flee unto Tarshish from the presence of the LORD; and he went down to Joppa, and found a ship going to Tarshish; so he paid the fare thereof, and went down into it, to go with them unto Tarshish, from the presence of the LORD.', u'But the LORD hurled a great wind into the sea, and there was a mighty tempest in the sea, so that the ship was like to be broken.', u'And the mariners were afraid, and cried every man unto his god; and they cast forth the wares that were in the ship into the sea, to lighten it unto them. But Jonah was gone down into the innermost parts of the ship; and he lay, and was fast asleep.', u'So the shipmaster came to him, and said unto him: \\u2018What meanest thou that thou sleepest? arise, call upon thy God, if so be that God will think upon us, that we perish not.\\u2019', u'And they said every one to his fellow: \\u2018Come, and let us cast lots, that we may know for whose cause this evil is upon us.\\u2019 So they cast lots, and the lot fell upon Jonah.', u'Then said they unto him: \\u2018Tell us, we pray thee, for whose cause this evil is upon us: what is thine occupation? and whence comest thou? what is thy country? and of what people art thou?\\u2019', u'And he said unto them: \\u2018I am an Hebrew; and I fear the LORD, the God of heaven, who hath made the sea and the dry land.\\u2019', u'Then were the men exceedingly afraid, and said unto him: \\u2018What is this that thou hast done?\\u2019 For the men knew that he fled from the presence of the LORD, because he had told them.', u'Then said they unto him: \\u2018What shall we do unto thee, that the sea may be calm unto us?\\u2019 for the sea grew more and more tempestuous.', u'And he said unto them: \\u2018Take me up, and cast me forth into the sea; so shall the sea be calm unto you; for I know that for my sake this great tempest is upon you.\\u2019', u'Nevertheless the men rowed hard to bring it to the land; but they could not; for the sea grew more and more tempestuous against them.', u'Wherefore they cried unto the LORD, and said: \\u2018We beseech Thee, O LORD, we beseech Thee, let us not perish for this man\\u2019s life, and lay not upon us innocent blood; for Thou, O LORD, hast done as it pleased Thee.\\u2019', u'So they took up Jonah, and cast him forth into the sea; and the sea ceased from its raging.', u'Then the men feared the LORD exceedingly; and they offered a sacrifice unto the LORD, and made vows.'], [u'And the LORD prepared a great fish to swallow up Jonah; and Jonah was in the belly of the fish three days and three nights.', u'Then Jonah prayed unto the LORD his God out of the fish\\u2019s belly.', u'And he said: I called out of mine affliction Unto the LORD, and He answered me; Out of the belly of the nether-world cried I, And Thou heardest my voice.', u'For Thou didst cast me into the depth, In the heart of the seas, And the flood was round about me; All Thy waves and Thy billows Passed over me.', u'And I said: \\u2018I am cast out From before Thine eyes\\u2019; Yet I will look again Toward Thy holy temple.', u'The waters compassed me about, even to the soul; The deep was round about me; The weeds were wrapped about my head.', u'I went down to the bottoms of the mountains; The earth with her bars closed upon me for ever; Yet hast Thou brought up my life from the pit, O LORD my God.', u'When my soul fainted within me, I remembered the LORD; And my prayer came in unto Thee, Into Thy holy temple.', u'They that regard lying vanities Forsake their own mercy.', u'But I will sacrifice unto Thee With the voice of thanksgiving; That which I have vowed I will pay. Salvation is of the LORD.', u'And the LORD spoke unto the fish, and it vomited out Jonah upon the dry land.'], [u'And the word of the LORD came unto Jonah the second time, saying:', u'\\u2019Arise, go unto Nineveh, that great city, and make unto it the proclamation that I bid thee.\\u2019', u'So Jonah arose, and went unto Nineveh, according to the word of the LORD. Now Nineveh was an exceeding great city, of three days\\u2019journey.', u'And Jonah began to enter into the city a day\\u2019s journey, and he proclaimed, and said: \\u2018Yet forty days, and Nineveh shall be overthrown.\\u2019', u'And the people of Nineveh believed God; and they proclaimed a fast, and put on sackcloth, from the greatest of them even to the least of them.', u'And the tidings reached the king of Nineveh, and he arose from his throne, and laid his robe from him, and covered him with sackcloth, and sat in ashes.', u'And he caused it to be proclaimed and published through Nineveh by the decree of the king and his nobles, saying: \\u2018Let neither man nor beast, herd nor flock, taste any thing; let them not feed, nor drink water;', u'but let them be covered with sackcloth, both man and beast, and let them cry mightily unto God; yea, let them turn every one from his evil way, and from the violence that is in their hands.', u'Who knoweth whether God will not turn and repent, and turn away from His fierce anger, that we perish not?\\u2019', u'And God saw their works, that they turned from their evil way; and God repented of the evil, which He said He would do unto them; and He did it not.'], [u'But it displeased Jonah exceedingly, and he was angry.', u'And he prayed unto the LORD, and said: \\u2018I pray Thee, O LORD, was not this my saying, when I was yet in mine own country? Therefore I fled beforehand unto Tarshish; for I knew that Thou art a gracious God, and compassionate, long-suffering, and abundant in mercy, and repentest Thee of the evil.', u'Therefore now, O LORD, take, I beseech Thee, my life from me; for it is better for me to die than to live.\\u2019', u'And the LORD said: \\u2018Art thou greatly angry?\\u2019', u'Then Jonah went out of the city, and sat on the east side of the city, and there made him a booth, and sat under it in the shadow, till he might see what would become of the city.', u'And the LORD God prepared a gourd, and made it to come up over Jonah, that it might be a shadow over his head, to deliver him from his evil. So Jonah was exceeding glad because of the gourd.', u'But God prepared a worm when the morning rose the next day, and it smote the gourd, that it withered.', u'And it came to pass, when the sun arose, that God prepared a vehement east wind; and the sun beat upon the head of Jonah, that he fainted, and requested for himself that he might die, and said: \\u2018It is better for me to die than to live.\\u2019', u'And God said to Jonah: \\u2018Art thou greatly angry for the gourd?\\u2019 And he said: \\u2018I am greatly angry, even unto death.\\u2019', u'And the LORD said: \\u2018Thou hast had pity on the gourd, for which thou hast not laboured, neither madest it grow, which came up in a night, and perished in a night;', u'and should not I have pity on Nineveh, that great city, wherein are more than sixscore thousand persons that cannot discern between their right hand and their left hand, and also much cattle?\\u2019']]\n"
     ]
    }
   ],
   "source": [
    "jonah = Ref('Jonah')\n",
    "\n",
    "jonahBook = TextChunk(jonah).text\n",
    "\n",
    "print(jonahBook)\n",
    "\n"
   ]
  },
  {
   "cell_type": "markdown",
   "metadata": {},
   "source": [
    "A few things to notice:\n",
    "- Notice the double brackets at the start and end of this output? This indicates to us that this is a 2D list. With lists being stored as items in a larger list. \n",
    "- Notice, how printing it this way is barely readable? It's hard to tell when the various chapters and verses begin or end. \n",
    "\n",
    "Let's try again, but using nested loops to organize the information as we print it. Read the comments to help understand what's happening... \n"
   ]
  },
  {
   "cell_type": "code",
   "execution_count": 85,
   "metadata": {},
   "outputs": [
    {
     "name": "stdout",
     "output_type": "stream",
     "text": [
      "\n",
      "----------\n",
      "Chapter 1\n",
      "----------\n",
      "\n",
      "1) Now the word of the LORD came unto Jonah the son of Amittai, saying:\n",
      "2) ’Arise, go to Nineveh, that great city, and proclaim against it; for their wickedness is come up before Me.’\n",
      "3) But Jonah rose up to flee unto Tarshish from the presence of the LORD; and he went down to Joppa, and found a ship going to Tarshish; so he paid the fare thereof, and went down into it, to go with them unto Tarshish, from the presence of the LORD.\n",
      "4) But the LORD hurled a great wind into the sea, and there was a mighty tempest in the sea, so that the ship was like to be broken.\n",
      "5) And the mariners were afraid, and cried every man unto his god; and they cast forth the wares that were in the ship into the sea, to lighten it unto them. But Jonah was gone down into the innermost parts of the ship; and he lay, and was fast asleep.\n",
      "6) So the shipmaster came to him, and said unto him: ‘What meanest thou that thou sleepest? arise, call upon thy God, if so be that God will think upon us, that we perish not.’\n",
      "7) And they said every one to his fellow: ‘Come, and let us cast lots, that we may know for whose cause this evil is upon us.’ So they cast lots, and the lot fell upon Jonah.\n",
      "8) Then said they unto him: ‘Tell us, we pray thee, for whose cause this evil is upon us: what is thine occupation? and whence comest thou? what is thy country? and of what people art thou?’\n",
      "9) And he said unto them: ‘I am an Hebrew; and I fear the LORD, the God of heaven, who hath made the sea and the dry land.’\n",
      "10) Then were the men exceedingly afraid, and said unto him: ‘What is this that thou hast done?’ For the men knew that he fled from the presence of the LORD, because he had told them.\n",
      "11) Then said they unto him: ‘What shall we do unto thee, that the sea may be calm unto us?’ for the sea grew more and more tempestuous.\n",
      "12) And he said unto them: ‘Take me up, and cast me forth into the sea; so shall the sea be calm unto you; for I know that for my sake this great tempest is upon you.’\n",
      "13) Nevertheless the men rowed hard to bring it to the land; but they could not; for the sea grew more and more tempestuous against them.\n",
      "14) Wherefore they cried unto the LORD, and said: ‘We beseech Thee, O LORD, we beseech Thee, let us not perish for this man’s life, and lay not upon us innocent blood; for Thou, O LORD, hast done as it pleased Thee.’\n",
      "15) So they took up Jonah, and cast him forth into the sea; and the sea ceased from its raging.\n",
      "16) Then the men feared the LORD exceedingly; and they offered a sacrifice unto the LORD, and made vows.\n",
      "\n",
      "----------\n",
      "Chapter 2\n",
      "----------\n",
      "\n",
      "1) And the LORD prepared a great fish to swallow up Jonah; and Jonah was in the belly of the fish three days and three nights.\n",
      "2) Then Jonah prayed unto the LORD his God out of the fish’s belly.\n",
      "3) And he said: I called out of mine affliction Unto the LORD, and He answered me; Out of the belly of the nether-world cried I, And Thou heardest my voice.\n",
      "4) For Thou didst cast me into the depth, In the heart of the seas, And the flood was round about me; All Thy waves and Thy billows Passed over me.\n",
      "5) And I said: ‘I am cast out From before Thine eyes’; Yet I will look again Toward Thy holy temple.\n",
      "6) The waters compassed me about, even to the soul; The deep was round about me; The weeds were wrapped about my head.\n",
      "7) I went down to the bottoms of the mountains; The earth with her bars closed upon me for ever; Yet hast Thou brought up my life from the pit, O LORD my God.\n",
      "8) When my soul fainted within me, I remembered the LORD; And my prayer came in unto Thee, Into Thy holy temple.\n",
      "9) They that regard lying vanities Forsake their own mercy.\n",
      "10) But I will sacrifice unto Thee With the voice of thanksgiving; That which I have vowed I will pay. Salvation is of the LORD.\n",
      "11) And the LORD spoke unto the fish, and it vomited out Jonah upon the dry land.\n",
      "\n",
      "----------\n",
      "Chapter 3\n",
      "----------\n",
      "\n",
      "1) And the word of the LORD came unto Jonah the second time, saying:\n",
      "2) ’Arise, go unto Nineveh, that great city, and make unto it the proclamation that I bid thee.’\n",
      "3) So Jonah arose, and went unto Nineveh, according to the word of the LORD. Now Nineveh was an exceeding great city, of three days’journey.\n",
      "4) And Jonah began to enter into the city a day’s journey, and he proclaimed, and said: ‘Yet forty days, and Nineveh shall be overthrown.’\n",
      "5) And the people of Nineveh believed God; and they proclaimed a fast, and put on sackcloth, from the greatest of them even to the least of them.\n",
      "6) And the tidings reached the king of Nineveh, and he arose from his throne, and laid his robe from him, and covered him with sackcloth, and sat in ashes.\n",
      "7) And he caused it to be proclaimed and published through Nineveh by the decree of the king and his nobles, saying: ‘Let neither man nor beast, herd nor flock, taste any thing; let them not feed, nor drink water;\n",
      "8) but let them be covered with sackcloth, both man and beast, and let them cry mightily unto God; yea, let them turn every one from his evil way, and from the violence that is in their hands.\n",
      "9) Who knoweth whether God will not turn and repent, and turn away from His fierce anger, that we perish not?’\n",
      "10) And God saw their works, that they turned from their evil way; and God repented of the evil, which He said He would do unto them; and He did it not.\n",
      "\n",
      "----------\n",
      "Chapter 4\n",
      "----------\n",
      "\n",
      "1) But it displeased Jonah exceedingly, and he was angry.\n",
      "2) And he prayed unto the LORD, and said: ‘I pray Thee, O LORD, was not this my saying, when I was yet in mine own country? Therefore I fled beforehand unto Tarshish; for I knew that Thou art a gracious God, and compassionate, long-suffering, and abundant in mercy, and repentest Thee of the evil.\n",
      "3) Therefore now, O LORD, take, I beseech Thee, my life from me; for it is better for me to die than to live.’\n",
      "4) And the LORD said: ‘Art thou greatly angry?’\n",
      "5) Then Jonah went out of the city, and sat on the east side of the city, and there made him a booth, and sat under it in the shadow, till he might see what would become of the city.\n",
      "6) And the LORD God prepared a gourd, and made it to come up over Jonah, that it might be a shadow over his head, to deliver him from his evil. So Jonah was exceeding glad because of the gourd.\n",
      "7) But God prepared a worm when the morning rose the next day, and it smote the gourd, that it withered.\n",
      "8) And it came to pass, when the sun arose, that God prepared a vehement east wind; and the sun beat upon the head of Jonah, that he fainted, and requested for himself that he might die, and said: ‘It is better for me to die than to live.’\n",
      "9) And God said to Jonah: ‘Art thou greatly angry for the gourd?’ And he said: ‘I am greatly angry, even unto death.’\n",
      "10) And the LORD said: ‘Thou hast had pity on the gourd, for which thou hast not laboured, neither madest it grow, which came up in a night, and perished in a night;\n",
      "11) and should not I have pity on Nineveh, that great city, wherein are more than sixscore thousand persons that cannot discern between their right hand and their left hand, and also much cattle?’\n"
     ]
    }
   ],
   "source": [
    "# Sefaria database code you are already familiar with that:\n",
    "#    1) creates a Jonah ref\n",
    "#    2) grabs the Jonah TextChunk\n",
    "jonah = Ref('Jonah')\n",
    "jonahBook = TextChunk(jonah).text\n",
    "\n",
    "# Simple number variable counters to help our formatting\n",
    "# look nice! They will increase and reset as needed. \n",
    "chapterCount = 1\n",
    "verseCount = 1\n",
    "\n",
    "# Our outer loop iterates through our outer list of chapters. \n",
    "# For each chapter in Jonah, the entire block of code nested\n",
    "# beneath the for-loop will be executed (including the inner \n",
    "# for loop running through a whole entire loop of its iteration)\n",
    "for eachChapter in jonahBook:\n",
    "    \n",
    "    # Printing the chapter number\n",
    "    print(\"\\n----------\\nChapter \" + str(chapterCount) + \"\\n----------\\n\")\n",
    "    \n",
    "    # Then, within a chapter, we set up a for loop to traverse\n",
    "    # our inner list of verses, and for each verse we print it\n",
    "    # appending a number to the front just for clarity's sake\n",
    "    for eachVerse in eachChapter:\n",
    "        print(str(verseCount) + \") \" + eachVerse)\n",
    "        verseCount += 1\n",
    "    \n",
    "    # Increasing the chapter by one before we proceed\n",
    "    # to repeat the same process for the next chapter\n",
    "    chapterCount += 1\n",
    "    \n",
    "    # Reset the verse count to 1, so it starts from scratch in the next loop through\n",
    "    verseCount = 1\n",
    "    "
   ]
  },
  {
   "cell_type": "markdown",
   "metadata": {},
   "source": [
    "Big difference in output, right?\n",
    "\n",
    "Try playing with the code above, switch out the reference to the book, or instead of verse numbers, add something else before or after each verse is printed. \n",
    "\n",
    "We'll definitely revisit this topic, but for now - as always, to learn more about lists and how to properly traverse them using nested for loops, see the following tutorials at: https://snakify.org/en/lessons/two_dimensional_lists_arrays/"
   ]
  },
  {
   "cell_type": "markdown",
   "metadata": {},
   "source": [
    "## Sefirat HaOmer Counter\n",
    "Let's look at another example, just to make sure we're able to really get the hang of this. \n",
    "- Read the code and the comments below\n",
    "- Run the code, and look at the output\n",
    "- Assuming Sefirat HaOmer starts on a Sunday, alter the code so that way on Shabbat (7th day of each week) the code prints \"Shabbat\" instead of that day's count. "
   ]
  },
  {
   "cell_type": "code",
   "execution_count": 86,
   "metadata": {},
   "outputs": [
    {
     "name": "stdout",
     "output_type": "stream",
     "text": [
      "1 weeks-0 days;  1 weeks-1 days;  1 weeks-2 days;  1 weeks-3 days;  1 weeks-4 days;  1 weeks-5 days;  1 weeks-6 days;  \n",
      "2 weeks-0 days;  2 weeks-1 days;  2 weeks-2 days;  2 weeks-3 days;  2 weeks-4 days;  2 weeks-5 days;  2 weeks-6 days;  \n",
      "3 weeks-0 days;  3 weeks-1 days;  3 weeks-2 days;  3 weeks-3 days;  3 weeks-4 days;  3 weeks-5 days;  3 weeks-6 days;  \n",
      "4 weeks-0 days;  4 weeks-1 days;  4 weeks-2 days;  4 weeks-3 days;  4 weeks-4 days;  4 weeks-5 days;  4 weeks-6 days;  \n",
      "5 weeks-0 days;  5 weeks-1 days;  5 weeks-2 days;  5 weeks-3 days;  Lag B'Omer;      5 weeks-5 days;  5 weeks-6 days;  \n",
      "6 weeks-0 days;  6 weeks-1 days;  6 weeks-2 days;  6 weeks-3 days;  6 weeks-4 days;  6 weeks-5 days;  6 weeks-6 days;  \n",
      "7 weeks-0 days;  7 weeks-1 days;  7 weeks-2 days;  7 weeks-3 days;  7 weeks-4 days;  7 weeks-5 days;  7 weeks-6 days;  \n"
     ]
    }
   ],
   "source": [
    "# List Comprehension\n",
    "# A list comprehension is a neat way of initializing a 2D list so it\n",
    "# starts off full of 0s. The syntax is kind of confusing, so we'll let\n",
    "# it be for now, and in the future you can always copy and paste this\n",
    "# line of code to initialize an empty 2D list. \n",
    "sefiraCal = [[0 for i in range(0,7)] for j in range(0,7)]\n",
    "\n",
    "\n",
    "# Nested For Loop #1\n",
    "# In this nested for loop, we go through the calendar\n",
    "# by weeks and by days, adding the appropriate string\n",
    "# version of the count to the appropriate slot. Notice, \n",
    "# there's no such thing as 0 weeks, so we always add 1 \n",
    "# to our i variable before adding it to the string.\n",
    "\n",
    "# Weeks \n",
    "for weeks in range (0, 7):\n",
    "    \n",
    "    # Days\n",
    "    for days in range(0, 7):\n",
    "        \n",
    "        # Adding the appropriate count\n",
    "        sefiraCal[weeks][days] = str(weeks+1) + \" weeks-\" + str(days) + \" days\"\n",
    "        \n",
    "# Nested For Loop #2\n",
    "# In this nested for loop, we go through the calendar\n",
    "# by weeks and by days, printing the count as we go. Notice, \n",
    "# that before we print, we always check if it's Lag Ba'Omer\n",
    "# and print something different instead. \n",
    "# To add a Shabbat feature to the calendar, you're going\n",
    "# to want to closely mimic the Lag Ba'Omer code. \n",
    "\n",
    "for weeks in range (0, 7):\n",
    "    \n",
    "    for days in range(0, 7):\n",
    "        \n",
    "        # Even though Lag Ba'Omer is really\n",
    "        # on the 5th week and 4th day, since our\n",
    "        # count starts at 0, it's one behind for weeks.\n",
    "        if (weeks == 4 and days == 4):\n",
    "            print(\"Lag B'Omer;     \"),\n",
    "        else:\n",
    "            print(sefiraCal[weeks][days] +\"; \"),\n",
    "        \n",
    "    print(\"\")\n",
    "    \n",
    "        "
   ]
  },
  {
   "cell_type": "markdown",
   "metadata": {},
   "source": [
    "## Summary\n",
    "Look at that! Over the course of just a third lesson, you've already used your new knowledge of computer science to build **TWO** tools to enhance Jewish life, and help people keep track of chanukah lighting (or counting Sefirat HaOmer). Fabulous job! \n",
    "\n",
    "Let's review what we learned today:\n",
    "- Lists\n",
    "- 2D Lists\n",
    "- Dictionaries\n",
    "- For Loops\n",
    "- Nested For Loops\n",
    "- Range()\n",
    "- While Loops\n",
    "- How books are internally stored within the Sefaria Database\n",
    "\n",
    "Whoa! Take a moment to take that all in, you are on your way to becoming a full-fledged engineer, building tools to help solve problems in the Jewish community!"
   ]
  }
 ],
 "metadata": {
  "kernelspec": {
   "display_name": "educationProj",
   "language": "python",
   "name": "educationproj"
  },
  "language_info": {
   "codemirror_mode": {
    "name": "ipython",
    "version": 2
   },
   "file_extension": ".py",
   "mimetype": "text/x-python",
   "name": "python",
   "nbconvert_exporter": "python",
   "pygments_lexer": "ipython2",
   "version": "2.7.10"
  }
 },
 "nbformat": 4,
 "nbformat_minor": 2
}
