{
 "cells": [
  {
   "cell_type": "markdown",
   "metadata": {},
   "source": [
    "# Mishnah Megillah 3:1"
   ]
  },
  {
   "cell_type": "markdown",
   "metadata": {},
   "source": [
    "בְּנֵי הָעִיר שֶׁמָּכְרוּ רְחוֹבָהּ שֶׁל עִיר, לוֹקְחִין בְּדָמָיו בֵּית הַכְּנֶסֶת. בֵּית הַכְּנֶסֶת, לוֹקְחִין תֵּבָה. תֵּבָה, לוֹקְחִין מִטְפָּחוֹת. מִטְפָּחוֹת, לוֹקְחִין סְפָרִים. סְפָרִים, לוֹקְחִין תּוֹרָה. אֲבָל אִם מָכְרוּ תוֹרָה, לֹא יִקְחוּ סְפָרִים. סְפָרִים, לֹא יִקְחוּ מִטְפָּחוֹת. מִטְפָּחוֹת, לֹא יִקְחוּ תֵבָה. תֵּבָה, לֹא יִקְחוּ בֵית הַכְּנֶסֶת. בֵּית הַכְּנֶסֶת, לֹא יִקְחוּ אֶת הָרְחוֹב. וְכֵן בְּמוֹתְרֵיהֶן. אֵין מוֹכְרִין אֶת שֶׁל רַבִּים לְיָחִיד, מִפְּנֵי שֶׁמּוֹרִידִין אוֹתוֹ מִקְּדֻשָּׁתוֹ, דִּבְרֵי רַבִּי יְהוּדָה. אָמְרוּ לוֹ, אִם כֵּן, אַף לֹא מֵעִיר גְּדוֹלָה לְעִיר קְטַנָּה\n",
    "\n",
    "Townspeople who sold the town square, they may buy with the proceeds a synagogue. [If they sold] a synagogue, they may buy with the proceeds an ark. [If they sold] an ark they may buy covers [for scrolls]. [If they sold] covers, they may buy scrolls [of the Tanakh]. [If they sold] scrolls they may buy a Torah. But if they sold a Torah they may not buy with the proceeds scrolls [of the Tanakh]. If [they sold] scrolls they may not buy covers. If [they sold] covers they may not buy an ark. If [they sold] an ark they may not buy a synagogue. If [they sold] a synagogue they may not buy a town square. The same applies to any money left over. They may not sell [something] belonging to a community because this lowers its sanctity, the words of Rabbi Meir. They said to him: if so, it should not be allowed to sell from a larger town to a smaller one.\n"
   ]
  },
  {
   "cell_type": "code",
   "execution_count": 10,
   "metadata": {},
   "outputs": [
    {
     "name": "stdout",
     "output_type": "stream",
     "text": [
      "Selling a scrolls\n",
      "With profit:\n",
      "  - Can purchase an square\n",
      "  - Can purchase an scrolls\n",
      "  - Can purchase an Torah\n",
      "  - Can purchase an covers\n",
      "  - Can purchase an synagogue\n",
      "  - Can purchase an aron\n"
     ]
    }
   ],
   "source": [
    "#square < synagogue < aron < covers < scrolls < Torah\n",
    "\n",
    "# Dictionary of items with arbitrary values\n",
    "items = {\"square\":1, \"synagogue\":2, \"aron\":3, \"covers\":4, \"scrolls\":5, \"Torah\":6}\n",
    "\n",
    "# Function which tells you what you can\n",
    "# use the profit of a given item for\n",
    "def use_profit_for(itemSelling):\n",
    "    \n",
    "    selling_data = items.get(itemSelling)\n",
    "    \n",
    "    print(\"Selling a \" + itemSelling)\n",
    "    print(\"With profit:\")\n",
    "    \n",
    "    for each in items:\n",
    "        if selling_data < each:\n",
    "            print(\"  - Can purchase an \" + str(each))\n",
    "        else:\n",
    "            print(\"- CanNOT purchase an \" + str(each))\n",
    "        \n",
    "## RUNNING CODE\n",
    "use_profit_for(\"scrolls\")\n",
    "    "
   ]
  },
  {
   "cell_type": "code",
   "execution_count": null,
   "metadata": {},
   "outputs": [],
   "source": []
  }
 ],
 "metadata": {
  "kernelspec": {
   "display_name": "educationProj",
   "language": "python",
   "name": "educationproj"
  },
  "language_info": {
   "codemirror_mode": {
    "name": "ipython",
    "version": 2
   },
   "file_extension": ".py",
   "mimetype": "text/x-python",
   "name": "python",
   "nbconvert_exporter": "python",
   "pygments_lexer": "ipython2",
   "version": "2.7.10"
  }
 },
 "nbformat": 4,
 "nbformat_minor": 2
}
