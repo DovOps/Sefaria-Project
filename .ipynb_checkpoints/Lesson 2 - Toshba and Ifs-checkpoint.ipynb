{
 "cells": [
  {
   "cell_type": "markdown",
   "metadata": {},
   "source": [
    "# Arguing About Arguments\n",
    "## A Lesson in Talmudic Conflict Resolution, Programming Logic and the Sefaria Database\n",
    "\n",
    "In this lesson, the student will:\n",
    "- Learn how to access the Sefaria Database using Python and use these skills to retrieve the focus texts.\n",
    "- Analyze the various ways of resolving a conflict in talmudic law\n",
    "- Outline the talmudic passage using psuedo-code if/else statements\n",
    "- Use basic Python skills to achieve these goals"
   ]
  },
  {
   "cell_type": "markdown",
   "metadata": {},
   "source": [
    "## Using Sefaria like a Software Engineer\n",
    "You may have used Sefaria before (and if not, check it out at https://sefaria.org), but let's go under the hood and use it the way the software engineer inside of you can - using code to access the texts stored in the database directly.\n",
    "\n",
    "First, let's set up our environment and do some other technical stuff you honestly don't need to understand fully right now. "
   ]
  },
  {
   "cell_type": "code",
   "execution_count": 1,
   "metadata": {},
   "outputs": [],
   "source": [
    "# Setting up some important environmental variables\n",
    "# that will allow the Jupyter Notebook to work with the\n",
    "# Sefaria internal code settings\n",
    "import os\n",
    "os.environ.setdefault(\"DJANGO_SETTINGS_MODULE\", \"sefaria.settings\")\n",
    "\n",
    "# Importing Django, an important code module which helps the \n",
    "# website talk to the Python code of Sefaria\n",
    "import django\n",
    "django.setup()"
   ]
  },
  {
   "cell_type": "markdown",
   "metadata": {},
   "source": [
    "Now, here comes the good stuff - let's import the Sefaria database into our code...\n",
    "\n",
    "### What's a Database?\n",
    "Good question. A database is an organized way through which the computer can store lots of data in memory in a way that's sort of reminiscent of a spreadsheet. Sefaria has one in which it stores all of its texts. We need to import the Sefaria database into our code so we can access all of the texts and use them for our lesson, and eventually our code! \n",
    "\n",
    "*To learn more about databases, check out: https://www.youtube.com/watch?v=wR0jg0eQsZA)*"
   ]
  },
  {
   "cell_type": "code",
   "execution_count": 2,
   "metadata": {},
   "outputs": [
    {
     "name": "stderr",
     "output_type": "stream",
     "text": [
      "WARNING Failed to load 're2'.  Falling back to 're' for regular expression parsing. See https://github.com/Sefaria/Sefaria-Project/wiki/Regular-Expression-Engines\n",
      "WARNING Failed to load 're2'.  Falling back to 're' for regular expression parsing. See https://github.com/blockspeiser/Sefaria-Project/wiki/Regular-Expression-Engines\n"
     ]
    }
   ],
   "source": [
    "# Importing the Sefaria Database\n",
    "from sefaria.model import *\n",
    "import sefaria.system.database as database"
   ]
  },
  {
   "cell_type": "markdown",
   "metadata": {},
   "source": [
    "### Creating Talmudic Text References\n",
    "In order to get a text from the Sefaria database, we have to do something called \"creating a text reference.\" Just like we have ways of referring to parts of the Talmud in a Beit Midrash (like Masechet Brachot 7a, or Masechet Taanit 17b) we need to refer to the Masechtot in the Sefaria database. There are specific ways of referring to Masechtot, and then you plug that formula between the quotes of code that looks like this: `myMasechet = Ref(' ')`. \n",
    "\n",
    "#### More Specific Examples...\n",
    "Since the Talmud is divided into **Daf** and sub-**Amudim**, Sefaria divides up books in **segments** and **sections**. So if you want the fourth daf of Masechet Brachot, your text reference is going to look something like `myMasechet = Ref('Brachot 4')`, and if you want amud bet of the the daf, it would look like `myMasechet = Ref('Brachot 4b')`. \n",
    "\n",
    "For more on specific syntax for different text references within Sefaria, see here: https://github.com/Sefaria/Sefaria-Project/wiki/Text-References\n",
    "\n",
    "### Your Turn!\n",
    "Using what you learned above, complete the code below by filling in a text reference. When you run the code, it should print out the Hebrew title your reference. "
   ]
  },
  {
   "cell_type": "code",
   "execution_count": 22,
   "metadata": {},
   "outputs": [
    {
     "name": "stdout",
     "output_type": "stream",
     "text": [
      "This reference refers to: ברכות ה׳ ב\n"
     ]
    }
   ],
   "source": [
    "# Fill in your reference below!\n",
    "myMasechet = Ref('Brachot 5b')\n",
    "\n",
    "# Printing out the title of the reference in Hebrew. \n",
    "# (For an English title, replace the end with 'myBook.normal()'')\n",
    "print(\"This reference refers to: \" + myMasechet.he_normal())"
   ]
  },
  {
   "cell_type": "markdown",
   "metadata": {},
   "source": [
    "### Let's get some text!\n",
    "Now we're going to introduce another class from Sefaria which will allow us to get the text corresponding to our `Ref()` reference from the database. This class is called `TextChunk`, and once we pass the `Ref()` in - it'll be easy to retrieve the Hebrew or English text! "
   ]
  },
  {
   "cell_type": "code",
   "execution_count": 24,
   "metadata": {},
   "outputs": [
    {
     "name": "stdout",
     "output_type": "stream",
     "text": [
      "--------------------\n",
      "תענית ב׳ א\n",
      "Taanit 2a\n",
      "--------------------\n",
      "\n",
      "מתני׳ <big><strong>מאימתי</strong></big> מזכירין גבורות גשמים רבי אליעזר אומר מיום טוב הראשון של חג ר' יהושע אומר מיום טוב האחרון של חג\n",
      "-\n",
      "<strong>MISHNA:</strong> <b>From when,</b> i.e., from which date, <b>does one</b> begin to <b>mention the might of the rains</b> by inserting the phrase: He makes the wind blow and rain fall, in the second blessing of the <i>Amida</i> prayer? <b>Rabbi Eliezer says:</b> The phrase is inserted <b>from the first Festival day of the festival</b> of <i>Sukkot</i>. <b>Rabbi Yehoshua says: From the last Festival day of the festival</b> of <i>Sukkot</i>.\n",
      " \n",
      " \n",
      "אמר לו ר' יהושע הואיל ואין הגשמים אלא סימן קללה בחג למה הוא מזכיר אמר לו ר' אליעזר אף אני לא אמרתי לשאול אלא להזכיר משיב הרוח ומוריד הגשם בעונתו אמר לו א\"כ לעולם יהא מזכיר\n",
      "-\n",
      "<b>Rabbi Yehoshua said to</b> Rabbi Eliezer: <b>Since rain is nothing other</b> than <b>a sign of a curse during the festival</b> of <i>Sukkot</i>, as rainfall forces Jews to leave their <i>sukkot</i>, <b>why</b> should <b>one mention</b> the might of rain during this period? <b>Rabbi Eliezer said to him: I too did not say</b> that it is proper <b>to request</b> rain at this time, <b>but</b> it is proper only <b>to mention</b> the phrase: <b>He makes the wind blow and rain fall, in its due time.</b> Rabbi Yehoshua <b>said to him: If so,</b> i.e., if reciting the phrase does not constitute a request for rain, <b>one should always mention</b> rain, even in the summer.\n",
      " \n",
      " \n",
      "אין שואלין את הגשמים אלא סמוך לגשמים ר' יהודה אומר העובר לפני התיבה ביו\"ט האחרון של חג האחרון מזכיר הראשון אינו מזכיר ביו\"ט הראשון של פסח הראשון מזכיר האחרון אינו מזכיר\n",
      "-\n",
      "The mishna states a general principle: <b>One requests rain only</b> immediately <b>preceding the rainy season. Rabbi Yehuda says:</b> With regard to <b>the one who passes before the ark</b> as prayer leader <b>on the concluding Festival day of the festival</b> of <i>Sukkot</i>, the Eighth Day of Assembly: <b>The last</b> prayer leader, who leads the additional prayer, <b>mentions</b> rain, whereas <b>the first</b> prayer leader, for the morning prayer, <b>does not mention</b> rain. The opposite is the case at the conclusion of the period for mentioning rain <b>on the first Festival day of Passover:</b> Here, <b>the first</b> prayer leader, who leads the morning prayer, <b>mentions</b> rain, while <b>the last</b> prayer leader, who leads the additional prayer, <b>does not mention</b> rain.\n",
      " \n",
      " \n",
      "<big><strong>גמ׳</strong></big> תנא היכא קאי דקתני מאימתי תנא התם קאי\n",
      "-\n",
      "<strong>GEMARA:</strong> The Gemara asks: <b>Where does</b> the <b><i>tanna</i></b> of the mishna <b>stand, that</b> he <b>teaches: From when?</b> The mishna’s opening question indicates that it has already been established that there is an obligation to mention rain at this time of the year. Where is this obligation stated? The Gemara answers: The <b><i>tanna</i> is standing there,</b> i.e., he bases himself on a mishna in <i>Berakhot</i>.\n",
      " \n",
      " \n",
      "דקתני מזכירין גבורות גשמים בתחיית המתים ושואלין בברכת השנים והבדלה בחונן הדעת וקתני מאימתי מזכירין גבורות גשמים\n",
      "-\n",
      "<b>As it teaches</b> (<i>Berakhot</i> 33a): <b>One mentions the might of the rains</b> and recites: He makes the wind blow and the rain fall <b>in</b> the second blessing of the <i>Amida</i> prayer, the blessing of <b>the resurrection of the dead. And the request</b> for rain: And grant dew and rain as a blessing, is recited <b>in</b> the ninth blessing of the <i>Amida</i> prayer, <b>the blessing of the years. And</b> the prayer of <b>distinction [<i>havdala</i>]</b> between the sacred and the profane, recited in the evening prayer following Shabbat and Festivals, is recited <b>in</b> the fourth blessing of the <i>Amida</i> prayer: <b>Who graciously grants knowledge. And</b> it is based on that mishna, which establishes the obligation to request for rain, <b>that</b> this mishna <b>teaches: From when does one</b> begin to <b>mention the might of the rains.</b>\n",
      " \n",
      " \n",
      "וליתני התם מ\"ש דשבקיה עד הכא\n",
      "-\n",
      "The Gemara asks: <b>But</b> if so, <b>let</b> the <i>tanna</i> <b>teach</b> this <i>halakha</i> <b>there,</b> in tractate <i>Berakhot</i>, at the beginning of the order of <i>Zera’im</i>. <b>What is different</b> about this case <b>that he left it until here,</b> toward the end of the order of <i>Moed</i>? In other words, if this issue is indeed a continuation of the mishna in <i>Berakhot</i>, why did the <i>tanna</i> neglect it until tractate <i>Ta’anit</i>?\n",
      " \n",
      " \n",
      "אלא תנא מראש השנה סליק דתנן ובחג נידונין על המים ואיידי דתנא ובחג נידונין על המים תנא מאימתי מזכירין גבורות גשמים\n",
      "-\n",
      "The Gemara answers: <b>Rather, the <i>tanna</i> interrupted</b> a discussion <b>from</b> tractate <b><i>Rosh HaShana</i>. As we learned</b> in a mishna there: <b>And on the festival</b> of <i>Sukkot</i> all creatures <b>are judged for water. Since</b> the <i>tanna</i> <b>taught: And on the festival</b> of <i>Sukkot</i> all creatures <b>are judged for water,</b> from which it can be inferred that one should request rain near the time of this judgment, he <b>taught</b> here: <b>From when does one mention the might of the rains.</b>\n",
      " \n",
      " \n",
      "וליתני מאימתי מזכירין על הגשמים מאי גבורות גשמים א\"ר יוחנן מפני שיורדין בגבורה שנאמר (איוב ה, ט) עושה גדולות עד אין חקר ונפלאות עד אין מספר וכתיב (איוב ה, י) הנותן מטר על פני ארץ ושולח מים על פני חוצות\n",
      "-\n",
      "§ The Gemara asks a question with regard to the language of the mishna: <b>And let</b> the <i>tanna</i> simply <b>teach: From when does one mention the rains. What is</b> the meaning of the phrase: <b>The might of the rains? Rabbi Yoḥanan said: Because</b> the rains <b>fall with might.</b> The might of the rain displays God’s power in the world, <b>as it is stated: “Who does great things beyond comprehension, marvels without number”</b> (Job 5:9). <b>And it is</b> also <b>written: “Who gives rain upon the earth, and sends water upon the fields”</b> (Job 5:10).\n",
      " \n",
      " \n",
      "מאי משמע אמר רבה בר שילא אתיא חקר חקר מברייתו של עולם\n",
      "-\n",
      "The Gemara asks: <b>From where</b> may it <b>be inferred</b> that these verses indicate that rainfall is considered a mighty act of God? <b>Rabba bar Sheila said:</b> This is <b>derived</b> by means of a verbal analogy between the term <b>“comprehension”</b> here and the term <b>“comprehension” from</b> a passage that deals with <b>the creation of the world.</b>\n",
      " \n",
      " \n",
      "כתיב הכא עושה גדולות עד אין חקר וכתיב התם (ישעיהו מ, כח) הלא ידעת אם לא שמעת אלהי עולם ה' בורא קצות הארץ לא ייעף ולא ייגע אין חקר לתבונתו וכתיב (תהלים סה, ז) מכין הרים בכחו נאזר בגבורה\n",
      "-\n",
      "Rabba bar Sheila elaborates on this verbal analogy. <b>It is written here: “Who does great things that are beyond comprehension,” and it is written there,</b> with regard to the creation of the world: <b>“Have you not known? Have you not heard that the everlasting God, the Lord, the Creator of the ends of the earth, does not grow faint or weary? His discernment is beyond comprehension”</b> (Isaiah 40:28). This shows that both creation and rainfall are beyond comprehension. <b>And</b> concerning the creation of the world, <b>it is written</b> elsewhere: <b>“Who sets firm the mountains with Your strength; Who is girded with might”</b> (Psalms 65:7). From this verse it can be inferred that rainfall, like the creation of the world, reflects God’s might.\n",
      " \n",
      " \n",
      "ומנא לן דבתפלה דתניא (דברים יא, יג) לאהבה את ה' אלהיכם ולעבדו בכל לבבכם איזו היא עבודה שהיא בלב הוי אומר זו תפלה וכתיב בתריה (דברים יא, יד) ונתתי מטר ארצכם בעתו יורה ומלקוש\n",
      "-\n",
      "The Gemara asks: <b>And from where do we</b> derive that rain must be mentioned specifically <b>in</b> the <i>Amida</i> <b>prayer?</b> The Gemara answers: <b>As it was taught</b> in a <i>baraita</i> with regard to the verse: <b>“To love the Lord your God and to serve Him with all your heart”</b> (Deuteronomy 11:13). <b>Which is the service</b> of God <b>that is</b> performed <b>in the heart? You must say</b> that <b>this</b> is referring to <b>prayer. And, afterward, it is written: “And I shall give the rain of your land in its due time, the first rain and the last rain”</b> (Deuteronomy 11:14). This juxtaposition teaches that it is appropriate to request rain while engaged in the service of the heart, i.e., prayer.\n",
      " \n",
      " \n",
      "אמר ר' יוחנן ג' מפתחות בידו של הקב\"ה שלא נמסרו ביד שליח ואלו הן מפתח של גשמים מפתח של חיה מפתח של תחיית המתים\n",
      "-\n",
      "§ The Gemara cites related statements concerning the idea that rainfall provides evidence of God’s might. <b>Rabbi Yoḥanan said:</b> There are <b>three keys</b> maintained <b>in the hand of the Holy One, Blessed be He, which were not transmitted to an intermediary,</b> i.e., God tends to these matters Himself. <b>And they are: The key of rain, the key of birthing, and the key of the resurrection of the dead.</b>\n",
      " \n",
      " \n",
      "מפתח של גשמים דכתיב (דברים כח, יב) יפתח ה' לך את אוצרו הטוב את השמים לתת מטר ארצך בעתו מפתח של חיה מנין דכתיב ויזכור אלהים את רחל וישמע\n",
      "-\n",
      "Rabbi Yoḥanan cites verses in support of his claim. <b>The key of rain, as it is stated: “The Lord will open for you His good treasure, the heavens, to give the rain of your land in its due time”</b> (Deuteronomy 28:12), indicates that rainfall is controlled by God Himself. <b>From where</b> is it derived that <b>the key of birthing</b> is maintained by God? <b>As it is written: “And God remembered Rachel and listened</b>\n",
      " \n",
      " \n"
     ]
    }
   ],
   "source": [
    "# Fill in your reference to an amud of a Masechet below!\n",
    "myMasechet = Ref('Taanit 2a')\n",
    "\n",
    "# Create a list to store our resulting array of text\n",
    "myHeText = TextChunk(myMasechet, \"he\").text\n",
    "myEnText = TextChunk(myMasechet).text\n",
    "\n",
    "print(\"--------------------\")\n",
    "print(myMasechet.he_normal())\n",
    "print(myMasechet.normal())\n",
    "print(\"--------------------\")\n",
    "print(\"\")\n",
    "for i in range (len(myHeText)):\n",
    "    print(myHeText[i])\n",
    "    print(\"-\")\n",
    "    print(myEnText[i])\n",
    "    print(\" \")\n",
    "    print(\" \")"
   ]
  },
  {
   "cell_type": "markdown",
   "metadata": {},
   "source": [
    "As you can see, an amud of the Talmud has a lot packed in, so even specific amudim are broken up into smaller sections. The piece we're going to be studying today is Avodah Zara 7a:9-10. Use the new coding skills you've learned to pull it up from the Sefaria database! \n",
    "\n",
    "Then, with your *chevruta* (study partner) go through the text in Hebrew, and translate.  "
   ]
  },
  {
   "cell_type": "code",
   "execution_count": 25,
   "metadata": {},
   "outputs": [
    {
     "name": "stdout",
     "output_type": "stream",
     "text": [
      "ת\"ר הנשאל לחכם וטימא לא ישאל לחכם ויטהר לחכם ואסר לא ישאל לחכם ויתיר\n",
      "היו שנים אחד מטמא ואחד מטהר אחד אוסר ואחד מתיר אם היה אחד מהם גדול מחבירו בחכמה ובמנין הלך אחריו ואם לאו הלך אחר המחמיר ר' יהושע בן קרחה אומר בשל תורה הלך אחר המחמיר בשל סופרים הלך אחר המיקל א\"ר יוסף הלכתא כרבי יהושע בן קרחה\n"
     ]
    }
   ],
   "source": [
    "# Fill in your reference to an amud of a Masechet below!\n",
    "myMasechet = Ref('Avodah Zara 7a:9-10')\n",
    "\n",
    "# Create a list to store our resulting array of text\n",
    "myHeText = TextChunk(myMasechet, \"he\").text\n",
    "\n",
    "for eachLine in myHeText:\n",
    "    print(eachLine)\n"
   ]
  },
  {
   "cell_type": "markdown",
   "metadata": {},
   "source": [
    "## Introduction to `if` and `else` Statements\n",
    "How do computers make decisions? How do we human beings weigh alternatives to make decisions? At the core of a computer's decision making process is something we like to call an `if` or an `else` statement. The way they work is that the computer first checks `if` some condition is met or some value is true, and if it is - then the computer executes a specific piece of code. However, if that condition was not met, then the computer skips to the `else` which executes a different piece of code.\n",
    "\n",
    "This is all still super abstract, so let's look at some code and put these concepts into practice. It should all be clearer once we see how it works! "
   ]
  },
  {
   "cell_type": "code",
   "execution_count": 16,
   "metadata": {},
   "outputs": [
    {
     "name": "stdout",
     "output_type": "stream",
     "text": [
      "This number is greater than 5\n"
     ]
    }
   ],
   "source": [
    "number = 10                                       # Our integer value stored in a variable called \"Number\"\n",
    "\n",
    "if number > 5:                                    # Here, the computer first checks if number is greater than 5\n",
    "    print(\"This number is greater than 5\")        # if it is, then it will execute the code indented below it,\n",
    "                                                  # and entirely skip the code nested beneath the \"else\"\n",
    "\n",
    "else:                                             # If number is NOT greater than 5 (i.e. less than or equal to 5)\n",
    "    print(\"This number is smaller than 5\")        # the the code skips to here automatically, and just\n",
    "                                                  # executes the block of code nested beneath the else statement"
   ]
  },
  {
   "cell_type": "markdown",
   "metadata": {},
   "source": [
    "If that makes some sense, try playing with the code block above, and changing the number value around. What happens when you set it to 2? What about to 1000? The correct statement should be printed accordingly, as that's the essential magic of `if` and `else`, that based on a simple conditional check it'll skip around the code. \n",
    "\n",
    "## Understanding `elif` Statements\n",
    "But what if there are more than just two conditions? What if you were building a robot that helped clean up the kitchen after dinner, and the robot needed to check if the temperature of a shelf was either\n",
    "1. Freezing (so it would know it was the freezer)\n",
    "2. Chilly (refridgerator detection)\n",
    "3. Everything else \n",
    "And based on one of those three options, the behavior of the robot would be different... \n",
    "\n",
    "#### That's when our handy `elif` statements come in...\n",
    "`elif` is a weird Python way of saying ***else if***. It can be added to `if` and `else` statements as an in-between after the `if` check and before the `else` check. Let's look at some code to make this clearer, borrowing our kitchen-cleanin robot example from above."
   ]
  },
  {
   "cell_type": "code",
   "execution_count": 17,
   "metadata": {},
   "outputs": [
    {
     "name": "stdout",
     "output_type": "stream",
     "text": [
      "DETECTED: Refridgerator shelf.\n"
     ]
    }
   ],
   "source": [
    "shelfTemperature = 40                                    # Variable to store an temperature for our shelf\n",
    "\n",
    "if shelfTemperature <= 32:                               # Our first if statement, if it's true, then the nested\n",
    "    print(\"DETECTED: Freezer shelf\")                     # code will execute only, skipping all the other elif/elses\n",
    "    \n",
    "elif shelfTemperature > 32 and shelfTemperature <= 45:   # If the above check was false, it'll check this condition\n",
    "    print(\"DETECTED: Refridgerator shelf.\")              # and act from that point forward just like an if. \n",
    "    \n",
    "else:                                                    # If every other check above the conditions weren't met\n",
    "    print(\"DETECTED: Regular shelf\")                     # then it'll execute the code nested within the else. "
   ]
  },
  {
   "cell_type": "markdown",
   "metadata": {},
   "source": [
    "And again, play with the above code to make sure you understand it. \n",
    "- Change the value of `shelfTemperature` to see how different parts of the code get executed\n",
    "- Add an additional `elif` statement before the `else` to check if `shelfTemperature` is warm enough to be the oven\n",
    "- Add another variable, and have each check also check for another aspect of the kitchen appliance. \n",
    "\n",
    "## Nested `if`, `else` and `elif` Statements\n",
    "Let's take this to the next level, and allow for our programs to be super powerful! What if based on one decision/condition, you want to make a different set of decisions. For example, let's say we were programming a robot to teach us Torah based on the upcoming Jewish holiday.\n",
    "\n",
    "The code may look something like this:\n",
    "\n",
    ">```\n",
    "> if spring:\n",
    "    if almost purim:\n",
    "        return Esther\n",
    "    elif almost passover:\n",
    "        return Shemot\n",
    "    elif almost shavuot :\n",
    "        return Rut\n",
    "elif summer:\n",
    "    if almost 9 av:\n",
    "        return Aicha\n",
    "    if on summer break:\n",
    "        return something to keep busy\n",
    "else:\n",
    "    return Parsha\n",
    "```\n",
    "\n",
    "You can clearly see how a basic structure emerges, of nested sub-decisions, all pretty simple just using our handy-dandy `if`, `elif` and `else`. The code will skip around based on the checks it makes, only executing conditions and internal subconditions which evaluate as true. \n",
    "\n",
    "**Note:** ***What's the difference between `if` and `elif`?***\n",
    "\n",
    "You'll notice in the above code outline how under the `if summer` check we only use `if` to check for each of the toppings instead of `elif` and `else` - why? Well, `elif` (which is short for else-if) and `else` will *only* execute the code nested beneath it if the previous `if` statement evaluated as false. What does that actually mean? An `elif` will only run if the `if` before it wasn't true, and if the `if` before it was true - then it won't run at all. \n",
    "\n",
    "With our summer example, sometimes both conditions could happen at once (i.e. not just almost 9 Av, but also it's summer break and they're bored), so if we used `elif` and `else`, then once a person selected 9 Av, no other pieces of Torah would be returned because it would assume to skip them. By keeping all of the summer options as `if` statements, then the computer is forced to check for all three even if one evaluates as true. \n",
    "\n",
    "#### Give it a try! Finish out our code below..."
   ]
  },
  {
   "cell_type": "code",
   "execution_count": 26,
   "metadata": {},
   "outputs": [
    {
     "name": "stdout",
     "output_type": "stream",
     "text": [
      "WELCOME TO THE TORAH ROBOT\n",
      "Now processing your TORAH of choice: \n",
      "\n",
      "וְאֵ֗לֶּה שְׁמוֹת֙ בְּנֵ֣י יִשְׂרָאֵ֔ל הַבָּאִ֖ים מִצְרָ֑יְמָה אֵ֣ת יַעֲקֹ֔ב אִ֥ישׁ וּבֵית֖וֹ בָּֽאוּ׃\n"
     ]
    }
   ],
   "source": [
    "# Setting up the order - feel free to add other variations, beverages or toppings\n",
    "spring = True\n",
    "almostPurim = False\n",
    "almostPassover = True\n",
    "almostShavuot = False\n",
    "summer = False\n",
    "almost9Av = False\n",
    "summerBreak = False\n",
    "\n",
    "print(\"WELCOME TO THE TORAH ROBOT\")\n",
    "print(\"Now processing your TORAH of choice: \\n\")\n",
    "\n",
    "# Now, you can finish writing the code below with nested options and the Sefaria database to print\n",
    "# the first verse of each desired work\n",
    "if spring:\n",
    "    \n",
    "    if almostPurim:\n",
    "        esther = Ref('Esther 1:1')\n",
    "        print(TextChunk(esther, \"he\").text)\n",
    "        \n",
    "    elif almostPassover:\n",
    "        shemot = Ref('Shemot 1:1')\n",
    "        print(TextChunk(shemot, \"he\").text)\n",
    "\n",
    "    elif almostShavuot :\n",
    "        rut = Ref('Ruth 1:1')\n",
    "        print(TextChunk(rut, \"he\").text)\n",
    "    \n",
    "elif summer:\n",
    "    \n",
    "    if almost9Av:\n",
    "        aicha = Ref('Aicha 1:1')\n",
    "        print(TextChunk(aicha, \"he\").text)\n",
    "        \n",
    "    if summerBreak:\n",
    "        talmud = Ref('Berachot 2a:1')\n",
    "        print(\"You have lots of free time, start studying Talmud!\")\n",
    "        print(TextChunk(talmud, \"he\").text)\n",
    "        \n",
    "else:\n",
    "    print(\"Start studying this week's parsha!\")\n"
   ]
  },
  {
   "cell_type": "markdown",
   "metadata": {},
   "source": [
    "## Synthesize!\n",
    "Let's use our new knowledge of `if` and `else` in Computer Science to outline this Gemara and build a simulation. The bare bones are here, as well as the comments. Can use the Talmudic passage we studied to fill in this code-outline? Interestingly, the highly organized and structured pattern of Jewish law often mirrors the highly organized and structured pattern in computer science. Let's use `if` and `else` statements to help us better understand the Gemara we studied before..."
   ]
  },
  {
   "cell_type": "code",
   "execution_count": 19,
   "metadata": {},
   "outputs": [
    {
     "name": "stdout",
     "output_type": "stream",
     "text": [
      "We follow _________\n"
     ]
    }
   ],
   "source": [
    "class Rabbi():\n",
    "    def __init__(self, g):  self.greatness = g\n",
    "        \n",
    "\n",
    "# Setting up the two rabbis with their greatness number\n",
    "rabbiOne = Rabbi(100)\n",
    "rabbiTwo = Rabbi(50)\n",
    "\n",
    "# Setting the nature of the machloket\n",
    "machloket = \"deorayta\"\n",
    "\n",
    "# FINISH THE CODE BELOW\n",
    "# Reflecting what we studied in the Talmudic passage\n",
    "# we pulled up above. \n",
    "\n",
    "if rabbiOne.greatness != rabbiTwo.greatness:       # The two rabbis are not equally great\n",
    "    \n",
    "    if rabbiOne.greatness > rabbiTwo.greatness:    # Rabbi One is greater\n",
    "        print(\"We follow _________\")\n",
    "        \n",
    "    else:                                          # If Rabbi Two is greater\n",
    "        print(\"We follow _________\")\n",
    "\n",
    "else:                                              # The Rabbis are of equal greatness\n",
    "    \n",
    "    if machloket == \"deorayta\":                    # If Machloket is deorayta\n",
    "        print(\"We follow _______\")                \n",
    "    \n",
    "    elif machloket == \"derabanan\":                 # The Machloket is derabanan\n",
    "        print(\"We follow _______\")"
   ]
  },
  {
   "cell_type": "markdown",
   "metadata": {},
   "source": [
    "Compare your code results to that of a different chevruta once you've finished. \n",
    "\n",
    "Play with the following options:\n",
    "- Change the greatness value of each rabbi\n",
    "- Change the nature of the machloket\n",
    "- Expand the code to handle a third rabbi\n",
    "\n",
    "#### Reflection:\n",
    "How does the structure of nested `if`, `elif` and `else` statements reflect the structure of the Talmudic passage? Did outlining the Talmudic passage this way effect your understanding of the logical flow of the passage?"
   ]
  },
  {
   "cell_type": "markdown",
   "metadata": {},
   "source": [
    "## Now that we have the structure down, let's take this analysis to the next level!\n",
    "### Think of a specific Machloket based on your prior knowledge that may force us to rely on the rules elaborated in this text. \n",
    "- **Art:** Draw a diagram of the rules we learn from this passage applying it to a specific case you can think of. Use arrows and accompanying text to create a flowchart for someone looking for a visual representation of the rules in that specific case. \n",
    "- **Technology:** Expand the code above to account for this specific case. Use `input()` functions to have the user personalize the situation and certain parameters. Make sure to `print()` explanations throughout the code to explain to the user how decisions about their case are being made. \n",
    "- **Creative Writing:** Write a story or a poem about a person dealing with the specific machloket you envisioned. Narrate their process of asking two different rabbis for help, and how they ultimately (based on the rules of this passage) determine what they're going to do. "
   ]
  },
  {
   "cell_type": "code",
   "execution_count": null,
   "metadata": {},
   "outputs": [],
   "source": []
  }
 ],
 "metadata": {
  "kernelspec": {
   "display_name": "educationProj",
   "language": "python",
   "name": "educationproj"
  },
  "language_info": {
   "codemirror_mode": {
    "name": "ipython",
    "version": 2
   },
   "file_extension": ".py",
   "mimetype": "text/x-python",
   "name": "python",
   "nbconvert_exporter": "python",
   "pygments_lexer": "ipython2",
   "version": "2.7.10"
  }
 },
 "nbformat": 4,
 "nbformat_minor": 2
}
