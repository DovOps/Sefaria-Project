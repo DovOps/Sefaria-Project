{
 "cells": [
  {
   "cell_type": "markdown",
   "metadata": {},
   "source": [
    "# The Shape-Shifting Shofar\n",
    "\n",
    "## Retrieving the Mishnah Rosh HaShana 26b\n",
    "Run the code in the cells below to set up the Sefaria Database (don't worry, you do not have to understand the code to run it!).\n",
    "\n",
    "**Note:** It's totally normal for two red lines that say `WARNING` to appear the first time you run the code (you can just ignore them). "
   ]
  },
  {
   "cell_type": "code",
   "execution_count": 7,
   "metadata": {},
   "outputs": [
    {
     "name": "stdout",
     "output_type": "stream",
     "text": [
      "\n"
     ]
    }
   ],
   "source": [
    "# Setting up some important environmental variables\n",
    "# that will allow the Jupyter Notebook to work with the\n",
    "# Sefaria internal code settings\n",
    "import os\n",
    "os.environ.setdefault(\"DJANGO_SETTINGS_MODULE\", \"sefaria.settings\")\n",
    "\n",
    "# Importing Django, an important code module which helps the \n",
    "# website talk to the Python code of Sefaria\n",
    "import django\n",
    "django.setup()\n",
    "\n",
    "# Importing the Sefaria Database - this is sort of \n",
    "# like an excel spreadsheet that stores ALL of Sefaria's\n",
    "# texts, from Tanakh to Mishnah to Talmud, and more! \n",
    "from sefaria.model import *\n",
    "import sefaria.system.database as database\n",
    "\n",
    "# for the video\n",
    "from IPython.display import IFrame   "
   ]
  },
  {
   "cell_type": "markdown",
   "metadata": {},
   "source": [
    "Run the code in the cell below for a taste of today's lesson..."
   ]
  },
  {
   "cell_type": "code",
   "execution_count": 13,
   "metadata": {},
   "outputs": [
    {
     "data": {
      "text/html": [
       "<iframe width=\"640\" height=\"480\" src=\"https://youtube.com/embed/Iy66awZrnPI\">\n",
       "</iframe>"
      ],
      "text/plain": [
       "<IPython.core.display.HTML object>"
      ]
     },
     "metadata": {},
     "output_type": "display_data"
    },
    {
     "name": "stdout",
     "output_type": "stream",
     "text": [
      "\n"
     ]
    }
   ],
   "source": [
    "%%HTML\n",
    "<iframe width=\"640\" height=\"480\" src=\"https://youtube.com/embed/Iy66awZrnPI\">\n",
    "</iframe>"
   ]
  },
  {
   "cell_type": "markdown",
   "metadata": {},
   "source": [
    "## Now let's actually retrieve the Mishnah...\n",
    "Again, you don't have to understand code to run it! Run the code below, and then learn the Mishnah it outputs to the screen. If you want to understand a bit more of the behind the scenes, you can read the `comments` which are notes to themselves that programmers add to code. In Python, all comments start with a `#` sign. "
   ]
  },
  {
   "cell_type": "code",
   "execution_count": 9,
   "metadata": {},
   "outputs": [
    {
     "name": "stdout",
     "output_type": "stream",
     "text": [
      "                                        ראש השנה כ״ו ב:ז׳-ט׳                                        \n",
      " שופר של ראש השנה של יעל פשוט ופיו מצופה זהב ושתי חצוצרות מן הצדדין שופר מאריך וחצוצרות מקצרות שמצות היום בשופר\n",
      "ובתעניות בשל זכרים כפופין ופיהן מצופה כסף ושתי חצוצרות באמצע שופר מקצר וחצוצרות מאריכות שמצות היום בחצוצרות\n",
      "               שוה היובל לר\"ה לתקיעה ולברכות רבי יהודה אומר בר\"ה תוקעין בשל זכרים וביובלות בשל יעלים\n"
     ]
    }
   ],
   "source": [
    "# Reference to the text we want from the Sefaria Database\n",
    "mishna = Ref('Tractate Rosh Hashanah 26b:7-9')\n",
    "\n",
    "# Create a list to store our resulting list of text\n",
    "myHeText = TextChunk(mishna, \"he\").text\n",
    "part1 = myHeText[0]\n",
    "\n",
    "# Cleaning out HTML tags that were mixed in\n",
    "# with the text of the Mishnah\n",
    "words = part1.split(\"</strong></big>\")\n",
    "\n",
    "# Printing the Mishna to the screen so it's \n",
    "# clear, centered and nice. \n",
    "print(mishna.he_normal().center(100, \" \"))\n",
    "print(words[1])\n",
    "print(myHeText[1])\n",
    "end = myHeText[2]\n",
    "end = end[:-1]\n",
    "print(end.rjust(100, \" \"))"
   ]
  },
  {
   "cell_type": "markdown",
   "metadata": {},
   "source": [
    "## Learning the Mishna\n",
    "- Highlight any key phrases (munachim) on your Sefaria sheet in light blue.\n",
    "- Identify any other words you don’t know by highlighting them in green.\n",
    "- Look them up using a dictionary (https://www.sefaria.org/Jastrow?lang=bi)\n",
    "- Add both sets of words to the running lists you've started to compile over the course of the year. These should appear in your regular Talmud class notes.\n",
    "\n",
    "\n",
    "### Guiding Questions:\n",
    "1. What are the different descriptions used for the different instruments? List all of the instruments and all of their possible descriptions. \n",
    "2. Which instruments are sounded on each day? Why do you think so?\n",
    "3. Google `conditional statements`. What might they have in common with our Mishnah?\n",
    "4. Identify the dispute in the Mishnah. \n",
    "5. What questions do you think the Gemara may ask on this Mishnah?\n",
    "\n",
    "### Automated Results\n",
    "Once you have your chart of the Mishnah, compare your results with the results of the computer (which determines the results by using `conditional statements`). \n",
    "\n",
    "This Python code below takes the various cases in the Mishnah, and automates a chart of results based on the selected day. For now, after you're done learning the Mishnah, just hit run (nothing will be outputted yet), and move down to the next cell.\n",
    "\n",
    "(And once again, if you want to try and understand the behind the scenes of this code, feel free to read the programmer's comments which begin on each line with a #)"
   ]
  },
  {
   "cell_type": "code",
   "execution_count": 22,
   "metadata": {},
   "outputs": [],
   "source": [
    "# This function takes a number from the user, and based on the \n",
    "# holiday that corresponds to that number, will print out\n",
    "# what sounds are sounded in the Mikdash according to the Tana Kamma\n",
    "def tanaKamma():\n",
    "    print(\"TANA KAMMA:\")\n",
    "    print(\"Which sounds were sounded on some important days in the Mikdash?\")\n",
    "    print(\"Discover what the Mishnah in Rosh HaShanah 26b describes!\")\n",
    "    print(\"To learn about Rosh Hashana, enter \\\"1\\\"\")\n",
    "    print(\"To learn about Fast Days, enter \\\"2\\\"\")\n",
    "    print(\"To learn about Yom Kippur of the Yovel, enter \\\"3\\\"\")\n",
    "    print(\"Choice: \"),\n",
    "    choice = input()\n",
    "    \n",
    "    if choice == 1:\n",
    "        print(\"\\nOn Rosh HaShana:\")\n",
    "        print(\"Shofar: \")\n",
    "        print(\"  - Straight ibex horn with a gold mouthpiece\")\n",
    "        print(\"  - Long blast (mitzvah of the day)\")\n",
    "        print(\"Chatzrotzrot: \")\n",
    "        print(\"   - 2 from each side\")\n",
    "        print(\"   - Shorter blasts\")\n",
    "        \n",
    "    elif choice == 2:\n",
    "        print(\"\\nOn a Fast Day:\")\n",
    "        print(\"Shofar: \")\n",
    "        print(\"  - Bent ram's horn with a silver mouthpiece\")\n",
    "        print(\"  - Shorter blasts\")\n",
    "        print(\"Chatzrotzrot: \")\n",
    "        print(\"   - 2 in the middle\")\n",
    "        print(\"   - Long blast (mitzvah of the day)\")\n",
    "        \n",
    "    elif choice == 3:\n",
    "        print(\"\\nOn the Yom Kippur of the Yovel Year\")\n",
    "        print(\"  - Same as Rosh HaShana with regard to the blowing and the brachot\")\n",
    "    \n",
    "    else:\n",
    "        print(\"Not a valid selection, please try again.\")\n",
    "        \n",
    "\n",
    "# This function takes a number from the user, and based on the \n",
    "# holiday that corresponds to that number, will print out\n",
    "# what sounds are sounded in the Mikdash according to Rabbi Yehuda\n",
    "def rYehuda():\n",
    "    print(\"RABBI YEHUDA:\")\n",
    "    print(\"Which sounds were sounded on some important days in the Mikdash?\")\n",
    "    print(\"Discover what the Mishnah in Rosh HaShanah 26b describes!\")\n",
    "    print(\"To learn about Rosh Hashana, enter \\\"1\\\"\")\n",
    "    print(\"To learn about Fast Days, enter \\\"2\\\"\")\n",
    "    print(\"To learn about Yom Kippur of the Yovel, enter \\\"3\\\"\")\n",
    "    print(\"Choice: \"),\n",
    "    ychoice = input()\n",
    "    \n",
    "    if ychoice == 1:\n",
    "        print(\"\\nOn Rosh HaShana:\")\n",
    "        print(\"Shofar: \")\n",
    "        print(\"  - Bent ram's horn (presumably with gold mouthpiece)\")\n",
    "        print(\"  - Long blast (mitzvah of the day)\")\n",
    "        print(\"Chatzrotzrot: \")\n",
    "        print(\"   - 2 from each side\")\n",
    "        print(\"   - Shorter blasts\")\n",
    "        \n",
    "    elif ychoice == 2:\n",
    "        print(\"\\nOn a Fast Day:\")\n",
    "        print(\"Shofar: \")\n",
    "        print(\"  - Straight ibex horn (presumably with silver mouthpiece)\")\n",
    "        print(\"  - Shorter blasts\")\n",
    "        print(\"Chatzrotzrot: \")\n",
    "        print(\"   - 2 in the middle\")\n",
    "        print(\"   - Long blast (mitzvah of the day)\")\n",
    "        \n",
    "    elif ychoice == 3:\n",
    "        print(\"\\nOn the Yom Kippur of the Yovel Year\")\n",
    "        print(\"  - Same as Rosh HaShana with regard to the blowing and the brachot\")\n",
    "    \n",
    "    else:\n",
    "        print(\"Not a valid selection, please try again.\")     "
   ]
  },
  {
   "cell_type": "markdown",
   "metadata": {},
   "source": [
    "### How is this code making decisions?\n",
    "Run the code below and watch the video that pops up. After you're done, revisit the code above and look count the number of times you see the words `if`, `elif` (which is short for \"else if\") and `else`. "
   ]
  },
  {
   "cell_type": "code",
   "execution_count": 21,
   "metadata": {},
   "outputs": [
    {
     "data": {
      "text/html": [
       "<iframe width=\"640\" height=\"480\" source src=\"https://www.youtube.com/embed/6C25zY1H0iU?start=0&end=40\">\n",
       "</iframe>"
      ],
      "text/plain": [
       "<IPython.core.display.HTML object>"
      ]
     },
     "metadata": {},
     "output_type": "display_data"
    }
   ],
   "source": [
    "%%HTML\n",
    "<iframe width=\"640\" height=\"480\" source src=\"https://www.youtube.com/embed/6C25zY1H0iU?start=0&end=40\">\n",
    "</iframe>"
   ]
  },
  {
   "cell_type": "markdown",
   "metadata": {},
   "source": [
    "## Evaluating Our Understanding\n",
    "\n",
    "Lots of code, right? Let's use the space below to use the code above to test our results. After you finish learning the Mishnah and charting out the cases, test your understanding against the code in the cell below.   \n",
    "\n",
    "### How to use this code: Tana Kamma's approach\n",
    "1. Type the following into the cell below: `TanKamma()`. This is what's called a function, and it will automatically behind the scenes execute all of the code we wrote out in the box above.  \n",
    "2. Run the code in the cell... and follow the computer's instructions.\n",
    "3. Run the code a few times, and compare your answers. \n",
    "4. Does it match your understanding of the Mishnah? If not, help us debug our code by finding the words in the Mishnah that contradict our code. "
   ]
  },
  {
   "cell_type": "code",
   "execution_count": 24,
   "metadata": {},
   "outputs": [
    {
     "name": "stdout",
     "output_type": "stream",
     "text": [
      "TANA KAMMA:\n",
      "Which sounds were sounded on some important days in the Mikdash?\n",
      "Discover what the Mishnah in Rosh HaShanah 26b describes!\n",
      "To learn about Rosh Hashana, enter \"1\"\n",
      "To learn about Fast Days, enter \"2\"\n",
      "To learn about Yom Kippur of the Yovel, enter \"3\"\n",
      "Choice: 2\n",
      " \n",
      "On a Fast Day:\n",
      "Shofar: \n",
      "  - Bent ram's horn with a silver mouthpiece\n",
      "  - Shorter blasts\n",
      "Chatzrotzrot: \n",
      "   - 2 in the middle\n",
      "   - Long blast (mitzvah of the day)\n"
     ]
    }
   ],
   "source": [
    "tanaKamma()"
   ]
  },
  {
   "cell_type": "markdown",
   "metadata": {},
   "source": [
    "### How to use this code: Rabbi Yehudah's approach\n",
    "1. Type the following into the cell below: `rYehuda()`. This is what's called a function, and it will automatically behind the scenes execute all of the code we wrote out in the box above.  \n",
    "2. Run the code in the cell... and follow the computer's instructions.\n",
    "3. Run the code a few times, and compare your answers. \n",
    "4. Does it match your understanding of the Mishnah? If not, help us debug our code by finding the words in the Mishnah that contradict our code. \n",
    "\n",
    "\n"
   ]
  },
  {
   "cell_type": "code",
   "execution_count": null,
   "metadata": {},
   "outputs": [
    {
     "name": "stdout",
     "output_type": "stream",
     "text": [
      "RABBI YEHUDA:\n",
      "Which sounds were sounded on some important days in the Mikdash?\n",
      "Discover what the Mishnah in Rosh HaShanah 26b describes!\n",
      "To learn about Rosh Hashana, enter \"1\"\n",
      "To learn about Fast Days, enter \"2\"\n",
      "To learn about Yom Kippur of the Yovel, enter \"3\"\n",
      "Choice: "
     ]
    }
   ],
   "source": [
    "rYehuda()"
   ]
  },
  {
   "cell_type": "markdown",
   "metadata": {},
   "source": [
    "## Identify the Machloket between Rabbi Yehuda and the Tana Kamma\n",
    "- On which day(s) do Rabbi Yehuda and the Tana Kamma agree? Cite the relevant words or lines from the Mishnah. \n",
    "- On which day(s) do they disagree? Cite the relevant words or lines from the Mishnah. \n",
    "- What do they disagree about?\n",
    "- What do you think are some possible underlying reasons for each approach?\n",
    "- What do you think the symbolism behind a straight shofar versus a bent shofar could be? List as many ideas as you and your chevruta can generate. "
   ]
  }
 ],
 "metadata": {
  "kernelspec": {
   "display_name": "educationProj",
   "language": "python",
   "name": "educationproj"
  },
  "language_info": {
   "codemirror_mode": {
    "name": "ipython",
    "version": 2
   },
   "file_extension": ".py",
   "mimetype": "text/x-python",
   "name": "python",
   "nbconvert_exporter": "python",
   "pygments_lexer": "ipython2",
   "version": "2.7.10"
  }
 },
 "nbformat": 4,
 "nbformat_minor": 2
}
