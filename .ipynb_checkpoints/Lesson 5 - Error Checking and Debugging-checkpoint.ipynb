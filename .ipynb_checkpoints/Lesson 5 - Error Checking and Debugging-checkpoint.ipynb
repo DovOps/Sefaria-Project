{
 "cells": [
  {
   "cell_type": "markdown",
   "metadata": {},
   "source": [
    "# Refining our Code, Refining Ourselves\n",
    "## A lesson in debugging code and personal improvement\n",
    "##### With Thanks to Al Sweigart of Invent with Python 4th Edition\n",
    "\n",
    "If you enter the wrong code, the computer won’t give you the right program. A computer program will always do what you tell it to, but what you tell it to do might not be what you actually want it to do. These errors are bugs in a computer program. Bugs happen when the programmer has not carefully thought about exactly what the program is doing.\n",
    "\n",
    "There are three types of bugs that can happen in your program:\n",
    "\n",
    "1. **Syntax errors:** This type of bug comes from typos. When the Python interpreter sees a syntax error, it’s because your code isn’t written in proper Python language. A Python program with even a single syntax error won’t run.\n",
    "\n",
    "2. **Runtime errors:** These are bugs that happen while the program is running. The program will work up until it reaches the line of code with the error, and then the program will terminate with an error message (this is called crashing). The Python interpreter will display a `traceback:` an error message showing the line containing the problem.\n",
    "\n",
    "3. **Semantic errors:** These bugs—which are the trickiest to fix—don’t crash the program, but they prevent the program from doing what the programmer intended it to do. For example, if the programmer wants the variable `total` to be the sum of the values in variables `a`, `b`, and `c` but writes `total = a * b * c`, then the value in `total` will be wrong. This could crash the program later on, but it won’t be immediately obvious where the semantic bug happened.\n",
    "\n",
    "### Practice! \n",
    "Let's take a look at the code belowL\n",
    "1. Run the code, and identify the error\n",
    "2. Slowly read through the code\n",
    "3. Add a few `print()` statements to see what certain variables contain at different points. \n",
    "4. See if you can resolve this bug!"
   ]
  },
  {
   "cell_type": "code",
   "execution_count": 1,
   "metadata": {},
   "outputs": [
    {
     "name": "stdout",
     "output_type": "stream",
     "text": [
      "6\n",
      "1\n",
      "3\n"
     ]
    }
   ],
   "source": [
    "commandments = \"10\"\n",
    "\n",
    "for each in commandments:\n",
    "    print(eachMitzvah)"
   ]
  },
  {
   "cell_type": "code",
   "execution_count": null,
   "metadata": {},
   "outputs": [],
   "source": []
  }
 ],
 "metadata": {
  "kernelspec": {
   "display_name": "educationProj",
   "language": "python",
   "name": "educationproj"
  },
  "language_info": {
   "codemirror_mode": {
    "name": "ipython",
    "version": 2
   },
   "file_extension": ".py",
   "mimetype": "text/x-python",
   "name": "python",
   "nbconvert_exporter": "python",
   "pygments_lexer": "ipython2",
   "version": "2.7.10"
  }
 },
 "nbformat": 4,
 "nbformat_minor": 2
}
